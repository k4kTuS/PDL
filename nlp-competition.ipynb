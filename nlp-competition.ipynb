{
 "cells": [
  {
   "cell_type": "code",
   "execution_count": null,
   "id": "5b8f46d9",
   "metadata": {
    "_cell_guid": "b1076dfc-b9ad-4769-8c92-a6c4dae69d19",
    "_uuid": "8f2839f25d086af736a60e9eeb907d3b93b6e0e5",
    "execution": {
     "iopub.execute_input": "2023-11-15T12:57:43.275936Z",
     "iopub.status.busy": "2023-11-15T12:57:43.275583Z",
     "iopub.status.idle": "2023-11-15T12:57:57.138780Z",
     "shell.execute_reply": "2023-11-15T12:57:57.137756Z"
    },
    "papermill": {
     "duration": 13.871757,
     "end_time": "2023-11-15T12:57:57.140828",
     "exception": false,
     "start_time": "2023-11-15T12:57:43.269071",
     "status": "completed"
    },
    "tags": []
   },
   "outputs": [],
   "source": [
    "import torch\n",
    "from torch.amp import autocast\n",
    "from torch.cuda.amp import GradScaler\n",
    "from torch.utils.data import Dataset, DataLoader\n",
    "from torch import nn\n",
    "from transformers import AutoModel, AutoTokenizer, DataCollatorWithPadding, get_cosine_schedule_with_warmup\n",
    "import pandas as pd\n",
    "import os\n",
    "from sklearn.metrics import mean_absolute_error\n",
    "from tqdm import tqdm\n",
    "\n",
    "train_df = pd.read_csv('/kaggle/input/nie-pdl23-mid-term-competition/train.csv')\n",
    "test_df = pd.read_csv('/kaggle/input/nie-pdl23-mid-term-competition/test.csv')\n",
    "\n",
    "train_df[\"fold\"] = train_df.index % 5\n",
    "\n",
    "# act_fold = 0\n",
    "# train_split = train_df[train_df['fold'] != act_fold]\n",
    "# val_split = train_df[train_df['fold'] == act_fold]\n",
    "\n",
    "# print(train_split.shape, val_split.shape, train_df.shape)\n",
    "\n",
    "# train_split.head()\n",
    "\n",
    "\"\"\"\n",
    "Make use of a `category` column in your solution – 5 points\n",
    "Add support for dynamic padding – 5 points\n",
    "Implement Average/Max pooling for the model – 5 points\n",
    "Add support for mixed precision in training and inference code – 5 points\n",
    "Add extra feature/idea to your solution that is not listed above – 5 points\n",
    "\"\"\""
   ]
  },
  {
   "cell_type": "code",
   "execution_count": 2,
   "id": "e4ee910c",
   "metadata": {
    "execution": {
     "iopub.execute_input": "2023-11-15T12:57:57.151866Z",
     "iopub.status.busy": "2023-11-15T12:57:57.151560Z",
     "iopub.status.idle": "2023-11-15T12:57:57.155453Z",
     "shell.execute_reply": "2023-11-15T12:57:57.154668Z"
    },
    "papermill": {
     "duration": 0.011523,
     "end_time": "2023-11-15T12:57:57.157390",
     "exception": false,
     "start_time": "2023-11-15T12:57:57.145867",
     "status": "completed"
    },
    "tags": []
   },
   "outputs": [],
   "source": [
    "# display(train_split[['category', 'difficulty']].groupby('category').mean())\n",
    "# display(val_split[['category', 'difficulty']].groupby('category').mean())\n",
    "# print(\"Train cats: \", train_split.category.unique())\n",
    "# print(\"Val cats: \", train_split.category.unique())\n",
    "# print(\"Test cats: \", test_df.category.unique())"
   ]
  },
  {
   "cell_type": "code",
   "execution_count": 3,
   "id": "07a3527c",
   "metadata": {
    "execution": {
     "iopub.execute_input": "2023-11-15T12:57:57.167926Z",
     "iopub.status.busy": "2023-11-15T12:57:57.167652Z",
     "iopub.status.idle": "2023-11-15T12:57:57.194441Z",
     "shell.execute_reply": "2023-11-15T12:57:57.193705Z"
    },
    "papermill": {
     "duration": 0.034312,
     "end_time": "2023-11-15T12:57:57.196309",
     "exception": false,
     "start_time": "2023-11-15T12:57:57.161997",
     "status": "completed"
    },
    "tags": []
   },
   "outputs": [],
   "source": [
    "# Dataset without Padding\n",
    "class NoPaddingDataset(Dataset):\n",
    "    def __init__(self, df, backbone, text_col, cat_col, label_col, max_len=64, sample=None):\n",
    "        texts = df\n",
    "        if sample:\n",
    "            texts = texts.sample(sample)\n",
    "        \n",
    "        self.tokenizer = AutoTokenizer.from_pretrained(backbone)\n",
    "        self.texts = texts[text_col].values.tolist()\n",
    "        self.labels = None if label_col not in texts.columns else texts[label_col].values.tolist()\n",
    "        self.categories = None if cat_col not in texts.columns else texts[cat_col].values.tolist()\n",
    "        self.max_len = max_len\n",
    "\n",
    "    def __len__(self):\n",
    "        return len(self.texts)\n",
    "\n",
    "    def __getitem__(self, idx):\n",
    "        input_text = self.texts[idx]\n",
    "        if self.categories is not None:\n",
    "            input_text = input_text + self.tokenizer.sep_token + self.categories[idx]\n",
    "        res = self.tokenizer(\n",
    "            input_text,\n",
    "            return_tensors=\"pt\",\n",
    "            truncation=True,\n",
    "            max_length=self.max_len,\n",
    "        )\n",
    "        res = {k:v[0] for k,v in res.items()}\n",
    "        if self.labels is not None:\n",
    "            res[\"target\"] = torch.tensor(self.labels[idx])\n",
    "        \n",
    "        return res\n",
    "\n",
    "# Define the Dataset class\n",
    "class CustomDataset(Dataset):\n",
    "    def __init__(self, df, backbone, text_col, cat_col, label_col, max_len=64, sample=None):\n",
    "        texts = df\n",
    "        if sample:\n",
    "            texts = texts.sample(sample)\n",
    "        \n",
    "        self.tokenizer = AutoTokenizer.from_pretrained(backbone)\n",
    "        self.texts = texts[text_col].values.tolist()\n",
    "        self.labels = None if label_col not in texts.columns else texts[label_col].values.tolist()\n",
    "        self.categories = None if cat_col not in texts.columns else texts[cat_col].values.tolist()\n",
    "        self.max_len = max_len\n",
    "\n",
    "    def __len__(self):\n",
    "        return len(self.texts)\n",
    "\n",
    "    def __getitem__(self, idx):\n",
    "        input_text = self.texts[idx]\n",
    "        if self.categories is not None:\n",
    "            input_text = input_text + self.tokenizer.sep_token + self.categories[idx]\n",
    "        res = self.tokenizer(\n",
    "            input_text,\n",
    "            return_tensors=\"pt\",\n",
    "            padding=\"max_length\",\n",
    "            truncation=True,\n",
    "            max_length=self.max_len,\n",
    "        )\n",
    "        res = {k:v[0] for k,v in res.items()}\n",
    "        if self.labels is not None:\n",
    "            res[\"target\"] = torch.tensor(self.labels[idx])\n",
    "        \n",
    "        return res\n",
    "    \n",
    "    \n",
    "class Head(nn.Module):\n",
    "    def __init__(self, layers, activation=nn.ReLU):\n",
    "        super().__init__()\n",
    "        my_layers = []\n",
    "        \n",
    "        for i in range(len(layers)-1):\n",
    "            my_layers.append(nn.Linear(layers[i], layers[i+1]))\n",
    "            if i< len(layers)-2:\n",
    "                my_layers.append(activation())\n",
    "\n",
    "        self.layers = nn.ModuleList(my_layers)\n",
    "        \n",
    "    def forward(self, x):\n",
    "        for layer in self.layers:\n",
    "            x = layer(x)\n",
    "        return x\n",
    "\n",
    "\n",
    "class ClsPool(nn.Module):\n",
    "    def forward(self, x, attention_mask):\n",
    "        # batch * num_tokens * num_embedding\n",
    "        return x[:, 0, :]\n",
    "\n",
    "    \n",
    "class AvgPool(nn.Module):\n",
    "    def forward(self, x, attention_mask):\n",
    "        attention_mask_expanded = attention_mask.unsqueeze(-1).expand(x.size()).float()\n",
    "        return (torch.sum(x * attention_mask_expanded, 1) / torch.clamp(attention_mask_expanded.sum(1), min=1e-9))\n",
    "\n",
    "\n",
    "class MaxPool(nn.Module):\n",
    "    def forward(self, x, attention_mask):\n",
    "        attention_mask_expanded = torch.where(attention_mask==0, -1e-9, 0.).unsqueeze(-1).expand(x.size()).float()\n",
    "        return torch.max(x-attention_mask_expanded, 1)[0]\n",
    "\n",
    "\n",
    "class CustomModel(nn.Module):\n",
    "    def __init__(self, backbone, pool, num_outputs, hidden_layers=None):\n",
    "        super().__init__()\n",
    "        \n",
    "        self.backbone_name = backbone\n",
    "        self.backbone = AutoModel.from_pretrained(backbone)\n",
    "        self.pool = pool\n",
    "        self.num_outputs = num_outputs\n",
    "        self.dropout = nn.Dropout(p=0.2)\n",
    "\n",
    "        hidden_layers = hidden_layers if hidden_layers else []\n",
    "        hidden_layers = [self.backbone.config.hidden_size] + hidden_layers + [num_outputs]\n",
    "        self.head = Head(hidden_layers)\n",
    "    \n",
    "    def forward(self, x, print_shapes=False, apply_sigmoid=False):\n",
    "        # save for pooling\n",
    "        attention_mask = x[\"attention_mask\"]\n",
    "        \n",
    "        x = self.backbone(**x)[\"last_hidden_state\"]\n",
    "\n",
    "        if print_shapes:\n",
    "            print(\"Backbone output shape\", x.shape)\n",
    "\n",
    "        x = self.pool(x, attention_mask)\n",
    "        \n",
    "        if print_shapes:\n",
    "            print(\"Pool output shape\", x.shape)\n",
    "        \n",
    "        x = self.dropout(x)\n",
    "        \n",
    "        x = self.head(x)\n",
    "        if print_shapes:\n",
    "            print(\"Head output shape\", x.shape)\n",
    "            \n",
    "        if apply_sigmoid:\n",
    "            x = nn.functional.sigmoid(x)\n",
    "            \n",
    "        # reduce single dimension\n",
    "        if self.num_outputs == 1:\n",
    "            x = x.view(-1)\n",
    "            \n",
    "        return x\n",
    "\n"
   ]
  },
  {
   "cell_type": "code",
   "execution_count": 4,
   "id": "42a41460",
   "metadata": {
    "execution": {
     "iopub.execute_input": "2023-11-15T12:57:57.206723Z",
     "iopub.status.busy": "2023-11-15T12:57:57.206460Z",
     "iopub.status.idle": "2023-11-15T12:57:57.223892Z",
     "shell.execute_reply": "2023-11-15T12:57:57.223065Z"
    },
    "papermill": {
     "duration": 0.024871,
     "end_time": "2023-11-15T12:57:57.225773",
     "exception": false,
     "start_time": "2023-11-15T12:57:57.200902",
     "status": "completed"
    },
    "tags": []
   },
   "outputs": [],
   "source": [
    "def accuracy(x, y):\n",
    "    return accuracy_score(x, [1* (num>0.5) for num in y])\n",
    "\n",
    "\n",
    "def train_loop(train_dl, model, loss_fn, optimizer, scheduler, device, use_amp=True, log_every=1):\n",
    "    losses = []\n",
    "    lr_values = []\n",
    "    size = len(train_dl)\n",
    "    \n",
    "    # Set the model to training mode - important for batch normalization and dropout layers\n",
    "    # Unnecessary in this situation but added for best practices\n",
    "    model.train()\n",
    "    # Prepare scaler because of mixed precision\n",
    "    scaler = GradScaler()\n",
    "    \n",
    "    pbar = tqdm(train_dl)\n",
    "    for batch_idx, batch_dict in enumerate(pbar):\n",
    "        x = {k:v.to(device) for k, v in batch_dict.items() if k != 'target'}\n",
    "\n",
    "        # this is necessary for BCEWithLogitLoss\n",
    "        y = batch_dict[\"target\"].float().to(device)\n",
    "        \n",
    "        # Running with mixed precision\n",
    "        with autocast(device_type=device, dtype=torch.float16, enabled=use_amp):\n",
    "            # Compute prediction and loss\n",
    "            pred = model(x)   \n",
    "            loss = loss_fn(pred, y)\n",
    "\n",
    "        # Backpropagation + scaler because of mixed precision\n",
    "        scaler.scale(loss).backward()\n",
    "        scaler.step(optimizer)\n",
    "        scaler.update()\n",
    "        scheduler.step()\n",
    "        optimizer.zero_grad()\n",
    "        \n",
    "        if batch_idx % log_every == 0:\n",
    "            losses.append(loss.detach().cpu().item())\n",
    "            lr_values.append(scheduler.get_lr()[0])\n",
    "        \n",
    "        loss, current = loss.item(), (batch_idx + 1)\n",
    "        pbar.set_description(f\"loss: {loss:>7f}  [{current:>5d}/{size:>5d}]\")\n",
    "            \n",
    "    return losses, lr_values\n",
    "\n",
    "\n",
    "def inference_loop(model, dataloader, device, **predict_kwargs):\n",
    "    model.to(device)\n",
    "    predictions = []\n",
    "    labels = []\n",
    "    \n",
    "    # Set the model to evaluation mode - important for batch normalization and dropout layers\n",
    "    model.eval()\n",
    "    \n",
    "    # Evaluating the model with torch.no_grad() ensures that no gradients are computed during test mode\n",
    "    # also serves to reduce unnecessary gradient computations and memory usage for tensors with requires_grad=True\n",
    "    with torch.no_grad():\n",
    "        for batch_dict in tqdm(dataloader):\n",
    "            x = {k:v.to(device) for k, v in batch_dict.items() if k != 'target'}\n",
    "            y = batch_dict.get(\"target\")\n",
    "            \n",
    "            pred = model(x,  **predict_kwargs)\n",
    "            # we move predictions to cpu, in case they are stored on GPU\n",
    "            predictions.extend(pred.cpu().tolist())\n",
    "            \n",
    "            if y is not None:\n",
    "                labels.extend(y.cpu().tolist())\n",
    "                \n",
    "    return predictions, labels\n",
    "\n",
    "\n",
    "def validation_loop(val_dl, model, val_metrics, device):\n",
    "    predictions, labels = inference_loop(model, val_dl, device, apply_sigmoid=False)\n",
    "    scores = {metric.__name__: metric(labels, predictions) for metric in val_metrics}\n",
    "    return scores\n",
    "\n",
    "\n",
    "def predict(model, test_dl, device, apply_sigmoid=False):\n",
    "    model.to(device)\n",
    "    predictions, _ = inference_loop(model, test_dl, device, apply_sigmoid=apply_sigmoid)\n",
    "    return predictions\n",
    "\n",
    "\n",
    "def train(model, train_dl, val_dl, loss, optimizer, scheduler, epochs, val_metrics, device, use_amp=True, skip_validation=False):\n",
    "    scores = []\n",
    "    losses = []\n",
    "    lr_rates = []\n",
    "    \n",
    "    model.to(device)\n",
    "    \n",
    "    for epoch in range(epochs):\n",
    "        print(f\"Epoch {epoch+1}/{epochs}\\n-------------------------------\")\n",
    "        epoch_losses, epoch_lr_rates = train_loop(train_dl, model, loss, optimizer, scheduler, device, use_amp=use_amp)\n",
    "        if not skip_validation:    \n",
    "            epoch_scores = validation_loop(val_dl, model, val_metrics, device)\n",
    "            print(epoch_scores)\n",
    "            scores.append(epoch_scores)\n",
    "        losses.extend(epoch_losses)\n",
    "        lr_rates.extend(epoch_lr_rates)\n",
    "    print(\"Done!\")\n",
    "    return model, scores, losses, lr_rates"
   ]
  },
  {
   "cell_type": "markdown",
   "id": "c710cee2",
   "metadata": {
    "papermill": {
     "duration": 0.00435,
     "end_time": "2023-11-15T12:57:57.234924",
     "exception": false,
     "start_time": "2023-11-15T12:57:57.230574",
     "status": "completed"
    },
    "tags": []
   },
   "source": [
    "## Train 5 models with different folds\n",
    "- They will be used as an ensemble"
   ]
  },
  {
   "cell_type": "code",
   "execution_count": 5,
   "id": "04e2daf5",
   "metadata": {
    "execution": {
     "iopub.execute_input": "2023-11-15T12:57:57.245287Z",
     "iopub.status.busy": "2023-11-15T12:57:57.244990Z",
     "iopub.status.idle": "2023-11-15T13:48:24.100193Z",
     "shell.execute_reply": "2023-11-15T13:48:24.099305Z"
    },
    "papermill": {
     "duration": 3026.863234,
     "end_time": "2023-11-15T13:48:24.102699",
     "exception": false,
     "start_time": "2023-11-15T12:57:57.239465",
     "status": "completed"
    },
    "tags": []
   },
   "outputs": [
    {
     "data": {
      "application/vnd.jupyter.widget-view+json": {
       "model_id": "4c7e024687a74a31815d136c7dc82081",
       "version_major": 2,
       "version_minor": 0
      },
      "text/plain": [
       "Downloading (…)lve/main/config.json:   0%|          | 0.00/579 [00:00<?, ?B/s]"
      ]
     },
     "metadata": {},
     "output_type": "display_data"
    },
    {
     "data": {
      "application/vnd.jupyter.widget-view+json": {
       "model_id": "00f61231b35a4cfbaed5fdfdafafbf4e",
       "version_major": 2,
       "version_minor": 0
      },
      "text/plain": [
       "Downloading pytorch_model.bin:   0%|          | 0.00/371M [00:00<?, ?B/s]"
      ]
     },
     "metadata": {},
     "output_type": "display_data"
    },
    {
     "data": {
      "application/vnd.jupyter.widget-view+json": {
       "model_id": "2b55b095d0f1420d9079d5f088185367",
       "version_major": 2,
       "version_minor": 0
      },
      "text/plain": [
       "Downloading (…)okenizer_config.json:   0%|          | 0.00/52.0 [00:00<?, ?B/s]"
      ]
     },
     "metadata": {},
     "output_type": "display_data"
    },
    {
     "data": {
      "application/vnd.jupyter.widget-view+json": {
       "model_id": "87a7a909986c40ad86094a44ff714cf8",
       "version_major": 2,
       "version_minor": 0
      },
      "text/plain": [
       "Downloading spm.model:   0%|          | 0.00/2.46M [00:00<?, ?B/s]"
      ]
     },
     "metadata": {},
     "output_type": "display_data"
    },
    {
     "name": "stderr",
     "output_type": "stream",
     "text": [
      "Special tokens have been added in the vocabulary, make sure the associated word embeddings are fine-tuned or trained.\n",
      "/opt/conda/lib/python3.10/site-packages/transformers/convert_slow_tokenizer.py:473: UserWarning: The sentencepiece tokenizer that you are converting to a fast tokenizer uses the byte fallback option which is not implemented in the fast tokenizers. In practice this means that the fast version of the tokenizer can produce unknown tokens whereas the sentencepiece version would have converted these unknown tokens into a sequence of byte tokens matching the original piece of text.\n",
      "  warnings.warn(\n",
      "Special tokens have been added in the vocabulary, make sure the associated word embeddings are fine-tuned or trained.\n",
      "Special tokens have been added in the vocabulary, make sure the associated word embeddings are fine-tuned or trained.\n",
      "Special tokens have been added in the vocabulary, make sure the associated word embeddings are fine-tuned or trained.\n",
      "Special tokens have been added in the vocabulary, make sure the associated word embeddings are fine-tuned or trained.\n",
      "Special tokens have been added in the vocabulary, make sure the associated word embeddings are fine-tuned or trained.\n"
     ]
    },
    {
     "name": "stdout",
     "output_type": "stream",
     "text": [
      "TRAINING ON FOLD 0\n",
      "=============================================\n",
      "\n",
      "Epoch 1/7\n",
      "-------------------------------\n"
     ]
    },
    {
     "name": "stderr",
     "output_type": "stream",
     "text": [
      "  0%|          | 0/646 [00:00<?, ?it/s]You're using a DebertaV2TokenizerFast tokenizer. Please note that with a fast tokenizer, using the `__call__` method is faster than using a method to encode the text followed by a call to the `pad` method to get a padded encoding.\n",
      "loss: 1.327344  [  646/  646]: 100%|██████████| 646/646 [01:23<00:00,  7.72it/s]\n",
      "100%|██████████| 162/162 [00:04<00:00, 34.82it/s]\n"
     ]
    },
    {
     "name": "stdout",
     "output_type": "stream",
     "text": [
      "{'mean_absolute_error': 1.448498902675168}\n",
      "Epoch 2/7\n",
      "-------------------------------\n"
     ]
    },
    {
     "name": "stderr",
     "output_type": "stream",
     "text": [
      "loss: 1.018359  [  646/  646]: 100%|██████████| 646/646 [01:21<00:00,  7.95it/s]\n",
      "100%|██████████| 162/162 [00:04<00:00, 35.71it/s]\n"
     ]
    },
    {
     "name": "stdout",
     "output_type": "stream",
     "text": [
      "{'mean_absolute_error': 1.34678426984663}\n",
      "Epoch 3/7\n",
      "-------------------------------\n"
     ]
    },
    {
     "name": "stderr",
     "output_type": "stream",
     "text": [
      "loss: 0.910156  [  646/  646]: 100%|██████████| 646/646 [01:21<00:00,  7.89it/s]\n",
      "100%|██████████| 162/162 [00:04<00:00, 36.66it/s]\n"
     ]
    },
    {
     "name": "stdout",
     "output_type": "stream",
     "text": [
      "{'mean_absolute_error': 1.2447752328387724}\n",
      "Epoch 4/7\n",
      "-------------------------------\n"
     ]
    },
    {
     "name": "stderr",
     "output_type": "stream",
     "text": [
      "loss: 1.001953  [  646/  646]: 100%|██████████| 646/646 [01:21<00:00,  7.94it/s]\n",
      "100%|██████████| 162/162 [00:04<00:00, 36.08it/s]\n"
     ]
    },
    {
     "name": "stdout",
     "output_type": "stream",
     "text": [
      "{'mean_absolute_error': 1.1921488902886217}\n",
      "Epoch 5/7\n",
      "-------------------------------\n"
     ]
    },
    {
     "name": "stderr",
     "output_type": "stream",
     "text": [
      "loss: 0.579297  [  646/  646]: 100%|██████████| 646/646 [01:22<00:00,  7.85it/s]\n",
      "100%|██████████| 162/162 [00:04<00:00, 35.78it/s]\n"
     ]
    },
    {
     "name": "stdout",
     "output_type": "stream",
     "text": [
      "{'mean_absolute_error': 1.176977942879355}\n",
      "Epoch 6/7\n",
      "-------------------------------\n"
     ]
    },
    {
     "name": "stderr",
     "output_type": "stream",
     "text": [
      "loss: 1.139453  [  646/  646]: 100%|██████████| 646/646 [01:22<00:00,  7.84it/s]\n",
      "100%|██████████| 162/162 [00:04<00:00, 35.58it/s]\n"
     ]
    },
    {
     "name": "stdout",
     "output_type": "stream",
     "text": [
      "{'mean_absolute_error': 1.2089918186144193}\n",
      "Epoch 7/7\n",
      "-------------------------------\n"
     ]
    },
    {
     "name": "stderr",
     "output_type": "stream",
     "text": [
      "loss: 0.635547  [  646/  646]: 100%|██████████| 646/646 [01:22<00:00,  7.87it/s]\n",
      "100%|██████████| 162/162 [00:04<00:00, 36.19it/s]\n"
     ]
    },
    {
     "name": "stdout",
     "output_type": "stream",
     "text": [
      "{'mean_absolute_error': 1.2102086914489882}\n",
      "Done!\n"
     ]
    },
    {
     "name": "stderr",
     "output_type": "stream",
     "text": [
      "Special tokens have been added in the vocabulary, make sure the associated word embeddings are fine-tuned or trained.\n",
      "/opt/conda/lib/python3.10/site-packages/transformers/convert_slow_tokenizer.py:473: UserWarning: The sentencepiece tokenizer that you are converting to a fast tokenizer uses the byte fallback option which is not implemented in the fast tokenizers. In practice this means that the fast version of the tokenizer can produce unknown tokens whereas the sentencepiece version would have converted these unknown tokens into a sequence of byte tokens matching the original piece of text.\n",
      "  warnings.warn(\n",
      "Special tokens have been added in the vocabulary, make sure the associated word embeddings are fine-tuned or trained.\n",
      "Special tokens have been added in the vocabulary, make sure the associated word embeddings are fine-tuned or trained.\n",
      "Special tokens have been added in the vocabulary, make sure the associated word embeddings are fine-tuned or trained.\n",
      "Special tokens have been added in the vocabulary, make sure the associated word embeddings are fine-tuned or trained.\n",
      "Special tokens have been added in the vocabulary, make sure the associated word embeddings are fine-tuned or trained.\n"
     ]
    },
    {
     "name": "stdout",
     "output_type": "stream",
     "text": [
      "TRAINING ON FOLD 1\n",
      "=============================================\n",
      "\n",
      "Epoch 1/7\n",
      "-------------------------------\n"
     ]
    },
    {
     "name": "stderr",
     "output_type": "stream",
     "text": [
      "  0%|          | 0/646 [00:00<?, ?it/s]You're using a DebertaV2TokenizerFast tokenizer. Please note that with a fast tokenizer, using the `__call__` method is faster than using a method to encode the text followed by a call to the `pad` method to get a padded encoding.\n",
      "loss: 1.274219  [  646/  646]: 100%|██████████| 646/646 [01:20<00:00,  7.99it/s]\n",
      "100%|██████████| 162/162 [00:04<00:00, 36.40it/s]\n"
     ]
    },
    {
     "name": "stdout",
     "output_type": "stream",
     "text": [
      "{'mean_absolute_error': 1.3014657011157589}\n",
      "Epoch 2/7\n",
      "-------------------------------\n"
     ]
    },
    {
     "name": "stderr",
     "output_type": "stream",
     "text": [
      "loss: 1.276953  [  646/  646]: 100%|██████████| 646/646 [01:20<00:00,  8.02it/s]\n",
      "100%|██████████| 162/162 [00:04<00:00, 36.95it/s]\n"
     ]
    },
    {
     "name": "stdout",
     "output_type": "stream",
     "text": [
      "{'mean_absolute_error': 1.2288751039342614}\n",
      "Epoch 3/7\n",
      "-------------------------------\n"
     ]
    },
    {
     "name": "stderr",
     "output_type": "stream",
     "text": [
      "loss: 0.678516  [  646/  646]: 100%|██████████| 646/646 [01:20<00:00,  8.03it/s]\n",
      "100%|██████████| 162/162 [00:04<00:00, 36.14it/s]\n"
     ]
    },
    {
     "name": "stdout",
     "output_type": "stream",
     "text": [
      "{'mean_absolute_error': 1.2293143708824004}\n",
      "Epoch 4/7\n",
      "-------------------------------\n"
     ]
    },
    {
     "name": "stderr",
     "output_type": "stream",
     "text": [
      "loss: 1.286719  [  646/  646]: 100%|██████████| 646/646 [01:21<00:00,  7.92it/s]\n",
      "100%|██████████| 162/162 [00:04<00:00, 35.66it/s]\n"
     ]
    },
    {
     "name": "stdout",
     "output_type": "stream",
     "text": [
      "{'mean_absolute_error': 1.1645417720448492}\n",
      "Epoch 5/7\n",
      "-------------------------------\n"
     ]
    },
    {
     "name": "stderr",
     "output_type": "stream",
     "text": [
      "loss: 1.078516  [  646/  646]: 100%|██████████| 646/646 [01:21<00:00,  7.95it/s]\n",
      "100%|██████████| 162/162 [00:04<00:00, 37.12it/s]\n"
     ]
    },
    {
     "name": "stdout",
     "output_type": "stream",
     "text": [
      "{'mean_absolute_error': 1.1986632984212309}\n",
      "Epoch 6/7\n",
      "-------------------------------\n"
     ]
    },
    {
     "name": "stderr",
     "output_type": "stream",
     "text": [
      "loss: 0.875781  [  646/  646]: 100%|██████████| 646/646 [01:20<00:00,  8.02it/s]\n",
      "100%|██████████| 162/162 [00:04<00:00, 36.67it/s]\n"
     ]
    },
    {
     "name": "stdout",
     "output_type": "stream",
     "text": [
      "{'mean_absolute_error': 1.166283776608783}\n",
      "Epoch 7/7\n",
      "-------------------------------\n"
     ]
    },
    {
     "name": "stderr",
     "output_type": "stream",
     "text": [
      "loss: 0.779883  [  646/  646]: 100%|██████████| 646/646 [01:20<00:00,  8.06it/s]\n",
      "100%|██████████| 162/162 [00:04<00:00, 36.82it/s]\n"
     ]
    },
    {
     "name": "stdout",
     "output_type": "stream",
     "text": [
      "{'mean_absolute_error': 1.1660267383136986}\n",
      "Done!\n"
     ]
    },
    {
     "name": "stderr",
     "output_type": "stream",
     "text": [
      "Special tokens have been added in the vocabulary, make sure the associated word embeddings are fine-tuned or trained.\n",
      "/opt/conda/lib/python3.10/site-packages/transformers/convert_slow_tokenizer.py:473: UserWarning: The sentencepiece tokenizer that you are converting to a fast tokenizer uses the byte fallback option which is not implemented in the fast tokenizers. In practice this means that the fast version of the tokenizer can produce unknown tokens whereas the sentencepiece version would have converted these unknown tokens into a sequence of byte tokens matching the original piece of text.\n",
      "  warnings.warn(\n",
      "Special tokens have been added in the vocabulary, make sure the associated word embeddings are fine-tuned or trained.\n",
      "Special tokens have been added in the vocabulary, make sure the associated word embeddings are fine-tuned or trained.\n",
      "Special tokens have been added in the vocabulary, make sure the associated word embeddings are fine-tuned or trained.\n",
      "Special tokens have been added in the vocabulary, make sure the associated word embeddings are fine-tuned or trained.\n",
      "Special tokens have been added in the vocabulary, make sure the associated word embeddings are fine-tuned or trained.\n"
     ]
    },
    {
     "name": "stdout",
     "output_type": "stream",
     "text": [
      "TRAINING ON FOLD 2\n",
      "=============================================\n",
      "\n",
      "Epoch 1/7\n",
      "-------------------------------\n"
     ]
    },
    {
     "name": "stderr",
     "output_type": "stream",
     "text": [
      "  0%|          | 0/646 [00:00<?, ?it/s]You're using a DebertaV2TokenizerFast tokenizer. Please note that with a fast tokenizer, using the `__call__` method is faster than using a method to encode the text followed by a call to the `pad` method to get a padded encoding.\n",
      "loss: 1.902995  [  646/  646]: 100%|██████████| 646/646 [01:20<00:00,  8.07it/s]\n",
      "100%|██████████| 162/162 [00:04<00:00, 35.32it/s]\n"
     ]
    },
    {
     "name": "stdout",
     "output_type": "stream",
     "text": [
      "{'mean_absolute_error': 1.3409163739956413}\n",
      "Epoch 2/7\n",
      "-------------------------------\n"
     ]
    },
    {
     "name": "stderr",
     "output_type": "stream",
     "text": [
      "loss: 0.861328  [  646/  646]: 100%|██████████| 646/646 [01:19<00:00,  8.10it/s]\n",
      "100%|██████████| 162/162 [00:04<00:00, 35.43it/s]\n"
     ]
    },
    {
     "name": "stdout",
     "output_type": "stream",
     "text": [
      "{'mean_absolute_error': 1.2380784923119845}\n",
      "Epoch 3/7\n",
      "-------------------------------\n"
     ]
    },
    {
     "name": "stderr",
     "output_type": "stream",
     "text": [
      "loss: 0.799479  [  646/  646]: 100%|██████████| 646/646 [01:19<00:00,  8.10it/s]\n",
      "100%|██████████| 162/162 [00:04<00:00, 35.57it/s]\n"
     ]
    },
    {
     "name": "stdout",
     "output_type": "stream",
     "text": [
      "{'mean_absolute_error': 1.2499318295075486}\n",
      "Epoch 4/7\n",
      "-------------------------------\n"
     ]
    },
    {
     "name": "stderr",
     "output_type": "stream",
     "text": [
      "loss: 1.021159  [  646/  646]: 100%|██████████| 646/646 [01:19<00:00,  8.08it/s]\n",
      "100%|██████████| 162/162 [00:04<00:00, 35.08it/s]\n"
     ]
    },
    {
     "name": "stdout",
     "output_type": "stream",
     "text": [
      "{'mean_absolute_error': 1.2152083739118924}\n",
      "Epoch 5/7\n",
      "-------------------------------\n"
     ]
    },
    {
     "name": "stderr",
     "output_type": "stream",
     "text": [
      "loss: 0.668945  [  646/  646]: 100%|██████████| 646/646 [01:20<00:00,  8.05it/s]\n",
      "100%|██████████| 162/162 [00:04<00:00, 35.68it/s]\n"
     ]
    },
    {
     "name": "stdout",
     "output_type": "stream",
     "text": [
      "{'mean_absolute_error': 1.1492832241180237}\n",
      "Epoch 6/7\n",
      "-------------------------------\n"
     ]
    },
    {
     "name": "stderr",
     "output_type": "stream",
     "text": [
      "loss: 0.375977  [  646/  646]: 100%|██████████| 646/646 [01:19<00:00,  8.08it/s]\n",
      "100%|██████████| 162/162 [00:04<00:00, 35.32it/s]\n"
     ]
    },
    {
     "name": "stdout",
     "output_type": "stream",
     "text": [
      "{'mean_absolute_error': 1.1655858812823396}\n",
      "Epoch 7/7\n",
      "-------------------------------\n"
     ]
    },
    {
     "name": "stderr",
     "output_type": "stream",
     "text": [
      "loss: 0.774577  [  646/  646]: 100%|██████████| 646/646 [01:21<00:00,  7.96it/s]\n",
      "100%|██████████| 162/162 [00:04<00:00, 35.03it/s]\n"
     ]
    },
    {
     "name": "stdout",
     "output_type": "stream",
     "text": [
      "{'mean_absolute_error': 1.1724502995991135}\n",
      "Done!\n"
     ]
    },
    {
     "name": "stderr",
     "output_type": "stream",
     "text": [
      "Special tokens have been added in the vocabulary, make sure the associated word embeddings are fine-tuned or trained.\n",
      "/opt/conda/lib/python3.10/site-packages/transformers/convert_slow_tokenizer.py:473: UserWarning: The sentencepiece tokenizer that you are converting to a fast tokenizer uses the byte fallback option which is not implemented in the fast tokenizers. In practice this means that the fast version of the tokenizer can produce unknown tokens whereas the sentencepiece version would have converted these unknown tokens into a sequence of byte tokens matching the original piece of text.\n",
      "  warnings.warn(\n",
      "Special tokens have been added in the vocabulary, make sure the associated word embeddings are fine-tuned or trained.\n",
      "Special tokens have been added in the vocabulary, make sure the associated word embeddings are fine-tuned or trained.\n",
      "Special tokens have been added in the vocabulary, make sure the associated word embeddings are fine-tuned or trained.\n",
      "Special tokens have been added in the vocabulary, make sure the associated word embeddings are fine-tuned or trained.\n",
      "Special tokens have been added in the vocabulary, make sure the associated word embeddings are fine-tuned or trained.\n"
     ]
    },
    {
     "name": "stdout",
     "output_type": "stream",
     "text": [
      "TRAINING ON FOLD 3\n",
      "=============================================\n",
      "\n",
      "Epoch 1/7\n",
      "-------------------------------\n"
     ]
    },
    {
     "name": "stderr",
     "output_type": "stream",
     "text": [
      "  0%|          | 0/646 [00:00<?, ?it/s]You're using a DebertaV2TokenizerFast tokenizer. Please note that with a fast tokenizer, using the `__call__` method is faster than using a method to encode the text followed by a call to the `pad` method to get a padded encoding.\n",
      "loss: 2.124023  [  646/  646]: 100%|██████████| 646/646 [01:21<00:00,  7.93it/s]\n",
      "100%|██████████| 162/162 [00:04<00:00, 36.11it/s]\n"
     ]
    },
    {
     "name": "stdout",
     "output_type": "stream",
     "text": [
      "{'mean_absolute_error': 1.547024318753611}\n",
      "Epoch 2/7\n",
      "-------------------------------\n"
     ]
    },
    {
     "name": "stderr",
     "output_type": "stream",
     "text": [
      "loss: 1.245117  [  646/  646]: 100%|██████████| 646/646 [01:20<00:00,  8.03it/s]\n",
      "100%|██████████| 162/162 [00:04<00:00, 37.13it/s]\n"
     ]
    },
    {
     "name": "stdout",
     "output_type": "stream",
     "text": [
      "{'mean_absolute_error': 1.4529740253591796}\n",
      "Epoch 3/7\n",
      "-------------------------------\n"
     ]
    },
    {
     "name": "stderr",
     "output_type": "stream",
     "text": [
      "loss: 1.193359  [  646/  646]: 100%|██████████| 646/646 [01:20<00:00,  8.03it/s]\n",
      "100%|██████████| 162/162 [00:04<00:00, 37.51it/s]\n"
     ]
    },
    {
     "name": "stdout",
     "output_type": "stream",
     "text": [
      "{'mean_absolute_error': 1.2339421832035162}\n",
      "Epoch 4/7\n",
      "-------------------------------\n"
     ]
    },
    {
     "name": "stderr",
     "output_type": "stream",
     "text": [
      "loss: 0.933919  [  646/  646]: 100%|██████████| 646/646 [01:20<00:00,  8.01it/s]\n",
      "100%|██████████| 162/162 [00:04<00:00, 37.45it/s]\n"
     ]
    },
    {
     "name": "stdout",
     "output_type": "stream",
     "text": [
      "{'mean_absolute_error': 1.2219566184822483}\n",
      "Epoch 5/7\n",
      "-------------------------------\n"
     ]
    },
    {
     "name": "stderr",
     "output_type": "stream",
     "text": [
      "loss: 0.887044  [  646/  646]: 100%|██████████| 646/646 [01:20<00:00,  8.03it/s]\n",
      "100%|██████████| 162/162 [00:04<00:00, 37.49it/s]\n"
     ]
    },
    {
     "name": "stdout",
     "output_type": "stream",
     "text": [
      "{'mean_absolute_error': 1.2456265754888078}\n",
      "Epoch 6/7\n",
      "-------------------------------\n"
     ]
    },
    {
     "name": "stderr",
     "output_type": "stream",
     "text": [
      "loss: 0.776042  [  646/  646]: 100%|██████████| 646/646 [01:20<00:00,  8.02it/s]\n",
      "100%|██████████| 162/162 [00:04<00:00, 37.38it/s]\n"
     ]
    },
    {
     "name": "stdout",
     "output_type": "stream",
     "text": [
      "{'mean_absolute_error': 1.226050420660644}\n",
      "Epoch 7/7\n",
      "-------------------------------\n"
     ]
    },
    {
     "name": "stderr",
     "output_type": "stream",
     "text": [
      "loss: 1.091471  [  646/  646]: 100%|██████████| 646/646 [01:20<00:00,  8.03it/s]\n",
      "100%|██████████| 162/162 [00:04<00:00, 37.25it/s]\n"
     ]
    },
    {
     "name": "stdout",
     "output_type": "stream",
     "text": [
      "{'mean_absolute_error': 1.2313238490375782}\n",
      "Done!\n"
     ]
    },
    {
     "name": "stderr",
     "output_type": "stream",
     "text": [
      "Special tokens have been added in the vocabulary, make sure the associated word embeddings are fine-tuned or trained.\n",
      "/opt/conda/lib/python3.10/site-packages/transformers/convert_slow_tokenizer.py:473: UserWarning: The sentencepiece tokenizer that you are converting to a fast tokenizer uses the byte fallback option which is not implemented in the fast tokenizers. In practice this means that the fast version of the tokenizer can produce unknown tokens whereas the sentencepiece version would have converted these unknown tokens into a sequence of byte tokens matching the original piece of text.\n",
      "  warnings.warn(\n",
      "Special tokens have been added in the vocabulary, make sure the associated word embeddings are fine-tuned or trained.\n",
      "Special tokens have been added in the vocabulary, make sure the associated word embeddings are fine-tuned or trained.\n",
      "Special tokens have been added in the vocabulary, make sure the associated word embeddings are fine-tuned or trained.\n",
      "Special tokens have been added in the vocabulary, make sure the associated word embeddings are fine-tuned or trained.\n",
      "Special tokens have been added in the vocabulary, make sure the associated word embeddings are fine-tuned or trained.\n"
     ]
    },
    {
     "name": "stdout",
     "output_type": "stream",
     "text": [
      "TRAINING ON FOLD 4\n",
      "=============================================\n",
      "\n",
      "Epoch 1/7\n",
      "-------------------------------\n"
     ]
    },
    {
     "name": "stderr",
     "output_type": "stream",
     "text": [
      "  0%|          | 0/646 [00:00<?, ?it/s]You're using a DebertaV2TokenizerFast tokenizer. Please note that with a fast tokenizer, using the `__call__` method is faster than using a method to encode the text followed by a call to the `pad` method to get a padded encoding.\n",
      "loss: 1.724609  [  646/  646]: 100%|██████████| 646/646 [01:20<00:00,  8.05it/s]\n",
      "100%|██████████| 162/162 [00:04<00:00, 35.10it/s]\n"
     ]
    },
    {
     "name": "stdout",
     "output_type": "stream",
     "text": [
      "{'mean_absolute_error': 1.3719526509921003}\n",
      "Epoch 2/7\n",
      "-------------------------------\n"
     ]
    },
    {
     "name": "stderr",
     "output_type": "stream",
     "text": [
      "loss: 1.626628  [  646/  646]: 100%|██████████| 646/646 [01:19<00:00,  8.11it/s]\n",
      "100%|██████████| 162/162 [00:04<00:00, 35.36it/s]\n"
     ]
    },
    {
     "name": "stdout",
     "output_type": "stream",
     "text": [
      "{'mean_absolute_error': 1.1857702783795865}\n",
      "Epoch 3/7\n",
      "-------------------------------\n"
     ]
    },
    {
     "name": "stderr",
     "output_type": "stream",
     "text": [
      "loss: 0.940918  [  646/  646]: 100%|██████████| 646/646 [01:19<00:00,  8.11it/s]\n",
      "100%|██████████| 162/162 [00:04<00:00, 35.90it/s]\n"
     ]
    },
    {
     "name": "stdout",
     "output_type": "stream",
     "text": [
      "{'mean_absolute_error': 1.2474060141236907}\n",
      "Epoch 4/7\n",
      "-------------------------------\n"
     ]
    },
    {
     "name": "stderr",
     "output_type": "stream",
     "text": [
      "loss: 0.747721  [  646/  646]: 100%|██████████| 646/646 [01:20<00:00,  8.04it/s]\n",
      "100%|██████████| 162/162 [00:04<00:00, 36.13it/s]\n"
     ]
    },
    {
     "name": "stdout",
     "output_type": "stream",
     "text": [
      "{'mean_absolute_error': 1.1985790241512562}\n",
      "Epoch 5/7\n",
      "-------------------------------\n"
     ]
    },
    {
     "name": "stderr",
     "output_type": "stream",
     "text": [
      "loss: 1.958333  [  646/  646]: 100%|██████████| 646/646 [01:19<00:00,  8.09it/s]\n",
      "100%|██████████| 162/162 [00:04<00:00, 36.04it/s]\n"
     ]
    },
    {
     "name": "stdout",
     "output_type": "stream",
     "text": [
      "{'mean_absolute_error': 1.1614706606757816}\n",
      "Epoch 6/7\n",
      "-------------------------------\n"
     ]
    },
    {
     "name": "stderr",
     "output_type": "stream",
     "text": [
      "loss: 0.619141  [  646/  646]: 100%|██████████| 646/646 [01:19<00:00,  8.08it/s]\n",
      "100%|██████████| 162/162 [00:04<00:00, 35.61it/s]\n"
     ]
    },
    {
     "name": "stdout",
     "output_type": "stream",
     "text": [
      "{'mean_absolute_error': 1.173219215768331}\n",
      "Epoch 7/7\n",
      "-------------------------------\n"
     ]
    },
    {
     "name": "stderr",
     "output_type": "stream",
     "text": [
      "loss: 0.326497  [  646/  646]: 100%|██████████| 646/646 [01:20<00:00,  8.05it/s]\n",
      "100%|██████████| 162/162 [00:04<00:00, 35.85it/s]\n"
     ]
    },
    {
     "name": "stdout",
     "output_type": "stream",
     "text": [
      "{'mean_absolute_error': 1.1614467399606032}\n",
      "Done!\n"
     ]
    }
   ],
   "source": [
    "train_fold_losses = {}\n",
    "val_fold_scores = {}\n",
    "\n",
    "for fold in range(0,5):\n",
    "    # Specify all hyper-parameters\n",
    "    backbone = \"microsoft/deberta-v3-base\"\n",
    "    pool = AvgPool()\n",
    "    learning_rate = 1e-5\n",
    "    num_classes = 1\n",
    "    hidden_layers = None\n",
    "    epochs = 7\n",
    "    batch_size = 8\n",
    "    num_tokens = 128\n",
    "    device = \"cuda\"\n",
    "    val_metrics = [mean_absolute_error]\n",
    "    loss = nn.L1Loss()\n",
    "    sample = None #10*batch_size\n",
    "    use_amp = True\n",
    "    skip_validation = False\n",
    "    full_dataset = False\n",
    "\n",
    "\n",
    "    model = CustomModel(backbone, pool, num_classes, hidden_layers)\n",
    "    optimizer = torch.optim.AdamW(model.parameters(), lr=learning_rate)\n",
    "\n",
    "    # Dynamic padding for each batch\n",
    "    collator = DataCollatorWithPadding(\n",
    "        tokenizer=AutoTokenizer.from_pretrained(backbone),\n",
    "        return_tensors='pt',\n",
    "        padding='longest'\n",
    "    )\n",
    "\n",
    "    train_split = train_df[train_df['fold'] != fold]\n",
    "    val_split = train_df[train_df['fold'] == fold]\n",
    "\n",
    "    if full_dataset:\n",
    "        # Get datasets and data loaders\n",
    "        train_ds = NoPaddingDataset(train_df, backbone, \"question\", \"category\", \"difficulty\", sample=sample, max_len=num_tokens)\n",
    "        train_dl = DataLoader(train_ds, batch_size=batch_size, shuffle=True, collate_fn=collator)\n",
    "        val_dl = None\n",
    "    else:\n",
    "        # Get datasets and data loaders\n",
    "        train_ds = NoPaddingDataset(train_split, backbone, \"question\", \"category\", \"difficulty\", sample=sample, max_len=num_tokens)\n",
    "        train_dl = DataLoader(train_ds, batch_size=batch_size, shuffle=True, collate_fn=collator)\n",
    "\n",
    "        # Get datasets and data loaders\n",
    "        val_ds = NoPaddingDataset(val_split, backbone, \"question\", \"category\", \"difficulty\", sample=sample, max_len=num_tokens)\n",
    "        val_dl = DataLoader(val_ds, batch_size=batch_size, shuffle=True, collate_fn=collator)\n",
    "\n",
    "    # Get scheduler\n",
    "    scheduler = get_cosine_schedule_with_warmup(optimizer, num_warmup_steps=400, num_training_steps=epochs * len(train_dl))\n",
    "\n",
    "    print(f'TRAINING ON FOLD {fold}\\n=============================================\\n');\n",
    "    # Train model\n",
    "    model, val_scores, train_losses, lr_rates = train(model, train_dl, val_dl, loss, optimizer, scheduler, epochs, val_metrics, device,\n",
    "                                                      use_amp=use_amp, skip_validation=skip_validation)\n",
    "\n",
    "    # Save model weights\n",
    "    torch.save(model.state_dict(), f'model_weights_fold{fold}.pth')\n",
    "\n",
    "    # Store fold scores and losses\n",
    "    train_fold_losses[fold] = train_losses\n",
    "    val_fold_scores[fold] = []\n",
    "    for val_score in val_scores:\n",
    "        val_fold_scores[fold].append(val_score['mean_absolute_error'])"
   ]
  },
  {
   "cell_type": "code",
   "execution_count": 6,
   "id": "628f6624",
   "metadata": {
    "execution": {
     "iopub.execute_input": "2023-11-15T13:48:31.427009Z",
     "iopub.status.busy": "2023-11-15T13:48:31.426337Z",
     "iopub.status.idle": "2023-11-15T13:48:33.072523Z",
     "shell.execute_reply": "2023-11-15T13:48:33.071609Z"
    },
    "papermill": {
     "duration": 5.330888,
     "end_time": "2023-11-15T13:48:33.074808",
     "exception": false,
     "start_time": "2023-11-15T13:48:27.743920",
     "status": "completed"
    },
    "tags": []
   },
   "outputs": [
    {
     "data": {
      "image/png": "[encoded data removed]",
      "text/plain": [
       "<Figure size 640x480 with 1 Axes>"
      ]
     },
     "metadata": {},
     "output_type": "display_data"
    },
    {
     "data": {
      "image/png": "[encoded data removed]",
      "text/plain": [
       "<Figure size 2000x800 with 6 Axes>"
      ]
     },
     "metadata": {},
     "output_type": "display_data"
    },
    {
     "data": {
      "image/png": "[encoded data removed]",
      "text/plain": [
       "<Figure size 640x480 with 1 Axes>"
      ]
     },
     "metadata": {},
     "output_type": "display_data"
    }
   ],
   "source": [
    "import matplotlib.pyplot as plt\n",
    "\n",
    "pd.DataFrame({\"Learning rate\":lr_rates}).plot(xlabel=\"step\", ylabel=\"lr\", style=\"-\", title=\"Train\")\n",
    "\n",
    "fig, axs = plt.subplots(2, 3, figsize=(20, 8))\n",
    "\n",
    "for i, (k, v) in enumerate(train_fold_losses.items()):\n",
    "    row = i // 3\n",
    "    col = i % 3\n",
    "    ax = axs[row, col]\n",
    "    ax.plot(v, label=f'Fold {k}')\n",
    "\n",
    "    ax.set_xlabel('step')\n",
    "    ax.set_ylabel('loss')\n",
    "    ax.set_title(f'Train fold {k}')\n",
    "\n",
    "plt.subplots_adjust(hspace=0.5)\n",
    "plt.show()\n",
    "\n",
    "for key, values in val_fold_scores.items():\n",
    "    plt.plot(values, label=f'Fold {key}', marker='o')\n",
    "    \n",
    "plt.xlabel('epoch')\n",
    "plt.ylabel('score')\n",
    "plt.title('Validation')\n",
    "plt.legend()\n",
    "plt.show()"
   ]
  },
  {
   "cell_type": "markdown",
   "id": "64f75742",
   "metadata": {
    "papermill": {
     "duration": 3.792621,
     "end_time": "2023-11-15T13:48:40.487502",
     "exception": false,
     "start_time": "2023-11-15T13:48:36.694881",
     "status": "completed"
    },
    "tags": []
   },
   "source": [
    "## Save submissions from each fold"
   ]
  },
  {
   "cell_type": "code",
   "execution_count": 7,
   "id": "abda4613",
   "metadata": {
    "execution": {
     "iopub.execute_input": "2023-11-15T13:48:47.663922Z",
     "iopub.status.busy": "2023-11-15T13:48:47.663555Z",
     "iopub.status.idle": "2023-11-15T13:49:37.904315Z",
     "shell.execute_reply": "2023-11-15T13:49:37.903179Z"
    },
    "papermill": {
     "duration": 53.828786,
     "end_time": "2023-11-15T13:49:37.906323",
     "exception": false,
     "start_time": "2023-11-15T13:48:44.077537",
     "status": "completed"
    },
    "tags": []
   },
   "outputs": [
    {
     "name": "stderr",
     "output_type": "stream",
     "text": [
      "Special tokens have been added in the vocabulary, make sure the associated word embeddings are fine-tuned or trained.\n",
      "/opt/conda/lib/python3.10/site-packages/transformers/convert_slow_tokenizer.py:473: UserWarning: The sentencepiece tokenizer that you are converting to a fast tokenizer uses the byte fallback option which is not implemented in the fast tokenizers. In practice this means that the fast version of the tokenizer can produce unknown tokens whereas the sentencepiece version would have converted these unknown tokens into a sequence of byte tokens matching the original piece of text.\n",
      "  warnings.warn(\n",
      "Special tokens have been added in the vocabulary, make sure the associated word embeddings are fine-tuned or trained.\n"
     ]
    },
    {
     "name": "stdout",
     "output_type": "stream",
     "text": [
      "Loading weights for fold 0\n"
     ]
    },
    {
     "name": "stderr",
     "output_type": "stream",
     "text": [
      "100%|██████████| 250/250 [00:07<00:00, 34.30it/s]\n"
     ]
    },
    {
     "name": "stdout",
     "output_type": "stream",
     "text": [
      "Loading weights for fold 1\n"
     ]
    },
    {
     "name": "stderr",
     "output_type": "stream",
     "text": [
      "100%|██████████| 250/250 [00:07<00:00, 34.94it/s]\n"
     ]
    },
    {
     "name": "stdout",
     "output_type": "stream",
     "text": [
      "Loading weights for fold 2\n"
     ]
    },
    {
     "name": "stderr",
     "output_type": "stream",
     "text": [
      "100%|██████████| 250/250 [00:07<00:00, 35.15it/s]\n"
     ]
    },
    {
     "name": "stdout",
     "output_type": "stream",
     "text": [
      "Loading weights for fold 3\n"
     ]
    },
    {
     "name": "stderr",
     "output_type": "stream",
     "text": [
      "100%|██████████| 250/250 [00:07<00:00, 35.08it/s]\n"
     ]
    },
    {
     "name": "stdout",
     "output_type": "stream",
     "text": [
      "Loading weights for fold 4\n"
     ]
    },
    {
     "name": "stderr",
     "output_type": "stream",
     "text": [
      "100%|██████████| 250/250 [00:07<00:00, 35.12it/s]\n"
     ]
    }
   ],
   "source": [
    "# Get test dataset and data loader\n",
    "test_ds = NoPaddingDataset(test_df, backbone, \"question\", \"category\", None, max_len=num_tokens)\n",
    "test_dl = DataLoader(test_ds, batch_size=batch_size, shuffle=False, collate_fn=collator)\n",
    "\n",
    "# Predict values for each fold\n",
    "for fold in range(0,5):\n",
    "    # Define model and load weights\n",
    "    loaded_model = CustomModel(backbone, pool, num_classes, hidden_layers)\n",
    "    print(f\"Loading weights for fold {fold}\")\n",
    "    loaded_model.load_state_dict(torch.load(f'model_weights_fold{fold}.pth'))\n",
    "\n",
    "    # Set model to inference mode\n",
    "    loaded_model.eval()\n",
    "\n",
    "    preds = predict(loaded_model, test_dl, device)\n",
    "\n",
    "    sub = pd.DataFrame({'id': test_df['id'].values, 'difficulty':preds})\n",
    "    sub.to_csv(f\"submission_fold{fold}.csv\", index=False)\n",
    "    \n",
    "    # Round the predictions as the difficulty values are whole numbers\n",
    "    sub.loc[:,'difficulty'] = sub.difficulty.round()\n",
    "    sub['difficulty'] = sub['difficulty'].replace(11, 10)\n",
    "    sub['difficulty'] = sub['difficulty'].replace(0, 1)\n",
    "    sub.to_csv(f\"submission_rounded_fold{fold}.csv\", index=False)"
   ]
  },
  {
   "cell_type": "markdown",
   "id": "35305cdd",
   "metadata": {
    "papermill": {
     "duration": 3.597714,
     "end_time": "2023-11-15T13:49:45.246569",
     "exception": false,
     "start_time": "2023-11-15T13:49:41.648855",
     "status": "completed"
    },
    "tags": []
   },
   "source": [
    "## Train one model on all the data"
   ]
  },
  {
   "cell_type": "code",
   "execution_count": 8,
   "id": "921188d3",
   "metadata": {
    "execution": {
     "iopub.execute_input": "2023-11-15T13:49:52.606988Z",
     "iopub.status.busy": "2023-11-15T13:49:52.606122Z",
     "iopub.status.idle": "2023-11-15T14:03:24.341060Z",
     "shell.execute_reply": "2023-11-15T14:03:24.340016Z"
    },
    "papermill": {
     "duration": 815.392581,
     "end_time": "2023-11-15T14:03:24.343527",
     "exception": false,
     "start_time": "2023-11-15T13:49:48.950946",
     "status": "completed"
    },
    "tags": []
   },
   "outputs": [
    {
     "name": "stderr",
     "output_type": "stream",
     "text": [
      "Special tokens have been added in the vocabulary, make sure the associated word embeddings are fine-tuned or trained.\n",
      "Special tokens have been added in the vocabulary, make sure the associated word embeddings are fine-tuned or trained.\n",
      "Special tokens have been added in the vocabulary, make sure the associated word embeddings are fine-tuned or trained.\n",
      "Special tokens have been added in the vocabulary, make sure the associated word embeddings are fine-tuned or trained.\n"
     ]
    },
    {
     "name": "stdout",
     "output_type": "stream",
     "text": [
      "TRAINING ON ALL DATA\n",
      "=============================================\n",
      "\n",
      "Epoch 1/8\n",
      "-------------------------------\n"
     ]
    },
    {
     "name": "stderr",
     "output_type": "stream",
     "text": [
      "  0%|          | 0/808 [00:00<?, ?it/s]You're using a DebertaV2TokenizerFast tokenizer. Please note that with a fast tokenizer, using the `__call__` method is faster than using a method to encode the text followed by a call to the `pad` method to get a padded encoding.\n",
      "loss: 1.277344  [  808/  808]: 100%|██████████| 808/808 [01:41<00:00,  7.97it/s]\n"
     ]
    },
    {
     "name": "stdout",
     "output_type": "stream",
     "text": [
      "Epoch 2/8\n",
      "-------------------------------\n"
     ]
    },
    {
     "name": "stderr",
     "output_type": "stream",
     "text": [
      "loss: 0.062500  [  808/  808]: 100%|██████████| 808/808 [01:40<00:00,  8.04it/s]\n"
     ]
    },
    {
     "name": "stdout",
     "output_type": "stream",
     "text": [
      "Epoch 3/8\n",
      "-------------------------------\n"
     ]
    },
    {
     "name": "stderr",
     "output_type": "stream",
     "text": [
      "loss: 1.259766  [  808/  808]: 100%|██████████| 808/808 [01:41<00:00,  7.99it/s]\n"
     ]
    },
    {
     "name": "stdout",
     "output_type": "stream",
     "text": [
      "Epoch 4/8\n",
      "-------------------------------\n"
     ]
    },
    {
     "name": "stderr",
     "output_type": "stream",
     "text": [
      "loss: 0.041016  [  808/  808]: 100%|██████████| 808/808 [01:40<00:00,  8.01it/s]\n"
     ]
    },
    {
     "name": "stdout",
     "output_type": "stream",
     "text": [
      "Epoch 5/8\n",
      "-------------------------------\n"
     ]
    },
    {
     "name": "stderr",
     "output_type": "stream",
     "text": [
      "loss: 1.582031  [  808/  808]: 100%|██████████| 808/808 [01:40<00:00,  8.05it/s]\n"
     ]
    },
    {
     "name": "stdout",
     "output_type": "stream",
     "text": [
      "Epoch 6/8\n",
      "-------------------------------\n"
     ]
    },
    {
     "name": "stderr",
     "output_type": "stream",
     "text": [
      "loss: 0.546875  [  808/  808]: 100%|██████████| 808/808 [01:40<00:00,  8.06it/s]\n"
     ]
    },
    {
     "name": "stdout",
     "output_type": "stream",
     "text": [
      "Epoch 7/8\n",
      "-------------------------------\n"
     ]
    },
    {
     "name": "stderr",
     "output_type": "stream",
     "text": [
      "loss: 0.703125  [  808/  808]: 100%|██████████| 808/808 [01:40<00:00,  8.03it/s]\n"
     ]
    },
    {
     "name": "stdout",
     "output_type": "stream",
     "text": [
      "Epoch 8/8\n",
      "-------------------------------\n"
     ]
    },
    {
     "name": "stderr",
     "output_type": "stream",
     "text": [
      "loss: 0.089844  [  808/  808]: 100%|██████████| 808/808 [01:40<00:00,  8.02it/s]\n"
     ]
    },
    {
     "name": "stdout",
     "output_type": "stream",
     "text": [
      "Done!\n"
     ]
    }
   ],
   "source": [
    "# Specify all hyper-parameters\n",
    "backbone = \"microsoft/deberta-v3-base\"\n",
    "pool = AvgPool()\n",
    "learning_rate = 1e-5\n",
    "num_classes = 1\n",
    "hidden_layers = None\n",
    "epochs = 8\n",
    "batch_size = 8\n",
    "num_tokens = 128\n",
    "device = \"cuda\"\n",
    "val_metrics = [mean_absolute_error]\n",
    "loss = nn.L1Loss()\n",
    "sample = None #10*batch_size\n",
    "use_amp = True\n",
    "skip_validation = True\n",
    "\n",
    "\n",
    "model_all = CustomModel(backbone, pool, num_classes, hidden_layers)\n",
    "optimizer = torch.optim.AdamW(model_all.parameters(), lr=learning_rate)\n",
    "\n",
    "# Dynamic padding for each batch\n",
    "collator = DataCollatorWithPadding(\n",
    "    tokenizer=AutoTokenizer.from_pretrained(backbone),\n",
    "    return_tensors='pt',\n",
    "    padding='longest'\n",
    ")\n",
    "\n",
    "# Get datasets and data loaders\n",
    "train_ds = NoPaddingDataset(train_df, backbone, \"question\", \"category\", \"difficulty\", sample=sample, max_len=num_tokens)\n",
    "train_dl = DataLoader(train_ds, batch_size=batch_size, shuffle=True, collate_fn=collator)\n",
    "val_dl = None\n",
    "\n",
    "# Get scheduler\n",
    "scheduler = get_cosine_schedule_with_warmup(optimizer, num_warmup_steps=600, num_training_steps=epochs * len(train_dl))\n",
    "\n",
    "print(f'TRAINING ON ALL DATA\\n=============================================\\n');\n",
    "# Train model\n",
    "model_all, val_scores, train_losses, lr_rates = train(model_all, train_dl, val_dl, loss, optimizer, scheduler, epochs, val_metrics, device,\n",
    "                                                  use_amp=use_amp, skip_validation=skip_validation)\n",
    "\n",
    "# Save model weights\n",
    "torch.save(model_all.state_dict(), f'model_weights_all_data.pth')"
   ]
  },
  {
   "cell_type": "code",
   "execution_count": 9,
   "id": "b5b70418",
   "metadata": {
    "execution": {
     "iopub.execute_input": "2023-11-15T14:03:33.789178Z",
     "iopub.status.busy": "2023-11-15T14:03:33.788750Z",
     "iopub.status.idle": "2023-11-15T14:03:40.983514Z",
     "shell.execute_reply": "2023-11-15T14:03:40.982364Z"
    },
    "papermill": {
     "duration": 11.898495,
     "end_time": "2023-11-15T14:03:40.985503",
     "exception": false,
     "start_time": "2023-11-15T14:03:29.087008",
     "status": "completed"
    },
    "tags": []
   },
   "outputs": [
    {
     "name": "stderr",
     "output_type": "stream",
     "text": [
      "100%|██████████| 250/250 [00:07<00:00, 34.91it/s]\n"
     ]
    }
   ],
   "source": [
    "model_all.eval()\n",
    "\n",
    "preds = predict(model_all, test_dl, device)\n",
    "\n",
    "sub = pd.DataFrame({'id': test_df['id'].values, 'difficulty':preds})\n",
    "sub.to_csv(f\"submission_all_data.csv\", index=False)\n",
    "\n",
    "# Round the predictions as the difficulty values are whole numbers\n",
    "sub.loc[:,'difficulty'] = sub.difficulty.round()\n",
    "sub['difficulty'] = sub['difficulty'].replace(11, 10)\n",
    "sub['difficulty'] = sub['difficulty'].replace(0, 1)\n",
    "sub.to_csv(f\"submission_rounded_all_data.csv\", index=False)"
   ]
  },
  {
   "cell_type": "code",
   "execution_count": 10,
   "id": "b97c9720",
   "metadata": {
    "execution": {
     "iopub.execute_input": "2023-11-15T14:03:50.326139Z",
     "iopub.status.busy": "2023-11-15T14:03:50.325694Z",
     "iopub.status.idle": "2023-11-15T14:03:50.361035Z",
     "shell.execute_reply": "2023-11-15T14:03:50.360335Z"
    },
    "papermill": {
     "duration": 4.78957,
     "end_time": "2023-11-15T14:03:50.363015",
     "exception": false,
     "start_time": "2023-11-15T14:03:45.573445",
     "status": "completed"
    },
    "tags": []
   },
   "outputs": [],
   "source": [
    "# Create submission by taking mean of all fold submissions\n",
    "df0 = pd.read_csv('submission_fold0.csv')\n",
    "df1 = pd.read_csv('submission_fold1.csv')\n",
    "df2 = pd.read_csv('submission_fold2.csv')\n",
    "df3 = pd.read_csv('submission_fold3.csv')\n",
    "df4 = pd.read_csv('submission_fold4.csv')\n",
    "df_all = pd.read_csv('submission_all_data.csv')\n",
    "\n",
    "merged_df = pd.concat([df0, df1, df2, df3, df4, df_all]).groupby('id').mean().reset_index()\n",
    "merged_df.loc[:,'difficulty'] = merged_df.difficulty.round()\n",
    "merged_df['difficulty'] = merged_df['difficulty'].replace(11, 10)\n",
    "merged_df['difficulty'] = merged_df['difficulty'].replace(0, 1)\n",
    "merged_df.to_csv('submission.csv', index=False)"
   ]
  },
  {
   "cell_type": "code",
   "execution_count": null,
   "id": "077ed7c0",
   "metadata": {
    "papermill": {
     "duration": 4.778793,
     "end_time": "2023-11-15T14:03:59.893711",
     "exception": false,
     "start_time": "2023-11-15T14:03:55.114918",
     "status": "completed"
    },
    "tags": []
   },
   "outputs": [],
   "source": []
  }
 ],
 "metadata": {
  "kaggle": {
   "accelerator": "gpu",
   "dataSources": [
    {
     "databundleVersionId": 6610120,
     "sourceId": 61251,
     "sourceType": "competition"
    }
   ],
   "dockerImageVersionId": 30559,
   "isGpuEnabled": true,
   "isInternetEnabled": true,
   "language": "python",
   "sourceType": "notebook"
  },
  "kernelspec": {
   "display_name": "Python 3 (ipykernel)",
   "language": "python",
   "name": "python3"
  },
  "language_info": {
   "codemirror_mode": {
    "name": "ipython",
    "version": 3
   },
   "file_extension": ".py",
   "mimetype": "text/x-python",
   "name": "python",
   "nbconvert_exporter": "python",
   "pygments_lexer": "ipython3",
   "version": "3.10.12"
  },
  "papermill": {
   "default_parameters": {},
   "duration": 3988.180262,
   "end_time": "2023-11-15T14:04:08.094085",
   "environment_variables": {},
   "exception": null,
   "input_path": "__notebook__.ipynb",
   "output_path": "__notebook__.ipynb",
   "parameters": {},
   "start_time": "2023-11-15T12:57:39.913823",
   "version": "2.4.0"
  },
  "widgets": {
   "application/vnd.jupyter.widget-state+json": {
    "state": {
     "00f61231b35a4cfbaed5fdfdafafbf4e": {
      "model_module": "@jupyter-widgets/controls",
      "model_module_version": "1.5.0",
      "model_name": "HBoxModel",
      "state": {
       "_dom_classes": [],
       "_model_module": "@jupyter-widgets/controls",
       "_model_module_version": "1.5.0",
       "_model_name": "HBoxModel",
       "_view_count": null,
       "_view_module": "@jupyter-widgets/controls",
       "_view_module_version": "1.5.0",
       "_view_name": "HBoxView",
       "box_style": "",
       "children": [
        "IPY_MODEL_7c47c34920aa4ab5a62225aad26fd708",
        "IPY_MODEL_b86e3ef81420494697fc960a6c9a7bd8",
        "IPY_MODEL_d6dbe59f6f26409caa68d3162c59c0d1"
       ],
       "layout": "IPY_MODEL_4270a893503b42b586bd04811d2d74e9"
      }
     },
     "01009335f37a4db6b0387d6ddbd4ca45": {
      "model_module": "@jupyter-widgets/base",
      "model_module_version": "1.2.0",
      "model_name": "LayoutModel",
      "state": {
       "_model_module": "@jupyter-widgets/base",
       "_model_module_version": "1.2.0",
       "_model_name": "LayoutModel",
       "_view_count": null,
       "_view_module": "@jupyter-widgets/base",
       "_view_module_version": "1.2.0",
       "_view_name": "LayoutView",
       "align_content": null,
       "align_items": null,
       "align_self": null,
       "border": null,
       "bottom": null,
       "display": null,
       "flex": null,
       "flex_flow": null,
       "grid_area": null,
       "grid_auto_columns": null,
       "grid_auto_flow": null,
       "grid_auto_rows": null,
       "grid_column": null,
       "grid_gap": null,
       "grid_row": null,
       "grid_template_areas": null,
       "grid_template_columns": null,
       "grid_template_rows": null,
       "height": null,
       "justify_content": null,
       "justify_items": null,
       "left": null,
       "margin": null,
       "max_height": null,
       "max_width": null,
       "min_height": null,
       "min_width": null,
       "object_fit": null,
       "object_position": null,
       "order": null,
       "overflow": null,
       "overflow_x": null,
       "overflow_y": null,
       "padding": null,
       "right": null,
       "top": null,
       "visibility": null,
       "width": null
      }
     },
     "04afe43fa57f44b2a1a0c6d2a82a86a2": {
      "model_module": "@jupyter-widgets/controls",
      "model_module_version": "1.5.0",
      "model_name": "DescriptionStyleModel",
      "state": {
       "_model_module": "@jupyter-widgets/controls",
       "_model_module_version": "1.5.0",
       "_model_name": "DescriptionStyleModel",
       "_view_count": null,
       "_view_module": "@jupyter-widgets/base",
       "_view_module_version": "1.2.0",
       "_view_name": "StyleView",
       "description_width": ""
      }
     },
     "0ffc6d0a95994a6896b169e9aabb7f7e": {
      "model_module": "@jupyter-widgets/controls",
      "model_module_version": "1.5.0",
      "model_name": "HTMLModel",
      "state": {
       "_dom_classes": [],
       "_model_module": "@jupyter-widgets/controls",
       "_model_module_version": "1.5.0",
       "_model_name": "HTMLModel",
       "_view_count": null,
       "_view_module": "@jupyter-widgets/controls",
       "_view_module_version": "1.5.0",
       "_view_name": "HTMLView",
       "description": "",
       "description_tooltip": null,
       "layout": "IPY_MODEL_6164a73253bb45d2b40bd2168e5c7d33",
       "placeholder": "​",
       "style": "IPY_MODEL_04afe43fa57f44b2a1a0c6d2a82a86a2",
       "value": " 52.0/52.0 [00:00&lt;00:00, 4.47kB/s]"
      }
     },
     "107bc7bdadcf4a90b11d26bbfdb3947f": {
      "model_module": "@jupyter-widgets/controls",
      "model_module_version": "1.5.0",
      "model_name": "HTMLModel",
      "state": {
       "_dom_classes": [],
       "_model_module": "@jupyter-widgets/controls",
       "_model_module_version": "1.5.0",
       "_model_name": "HTMLModel",
       "_view_count": null,
       "_view_module": "@jupyter-widgets/controls",
       "_view_module_version": "1.5.0",
       "_view_name": "HTMLView",
       "description": "",
       "description_tooltip": null,
       "layout": "IPY_MODEL_7b55879ead8f4a88a42ea1dc15cc649c",
       "placeholder": "​",
       "style": "IPY_MODEL_877a683ca759405ca2ea12569ec53544",
       "value": " 2.46M/2.46M [00:00&lt;00:00, 88.8MB/s]"
      }
     },
     "114ce2ec98b04c04be448218c437405f": {
      "model_module": "@jupyter-widgets/controls",
      "model_module_version": "1.5.0",
      "model_name": "DescriptionStyleModel",
      "state": {
       "_model_module": "@jupyter-widgets/controls",
       "_model_module_version": "1.5.0",
       "_model_name": "DescriptionStyleModel",
       "_view_count": null,
       "_view_module": "@jupyter-widgets/base",
       "_view_module_version": "1.2.0",
       "_view_name": "StyleView",
       "description_width": ""
      }
     },
     "1d81b27478c44e3a9fa816c5e204aeef": {
      "model_module": "@jupyter-widgets/base",
      "model_module_version": "1.2.0",
      "model_name": "LayoutModel",
      "state": {
       "_model_module": "@jupyter-widgets/base",
       "_model_module_version": "1.2.0",
       "_model_name": "LayoutModel",
       "_view_count": null,
       "_view_module": "@jupyter-widgets/base",
       "_view_module_version": "1.2.0",
       "_view_name": "LayoutView",
       "align_content": null,
       "align_items": null,
       "align_self": null,
       "border": null,
       "bottom": null,
       "display": null,
       "flex": null,
       "flex_flow": null,
       "grid_area": null,
       "grid_auto_columns": null,
       "grid_auto_flow": null,
       "grid_auto_rows": null,
       "grid_column": null,
       "grid_gap": null,
       "grid_row": null,
       "grid_template_areas": null,
       "grid_template_columns": null,
       "grid_template_rows": null,
       "height": null,
       "justify_content": null,
       "justify_items": null,
       "left": null,
       "margin": null,
       "max_height": null,
       "max_width": null,
       "min_height": null,
       "min_width": null,
       "object_fit": null,
       "object_position": null,
       "order": null,
       "overflow": null,
       "overflow_x": null,
       "overflow_y": null,
       "padding": null,
       "right": null,
       "top": null,
       "visibility": null,
       "width": null
      }
     },
     "256cfa8dc8404a6cb6dadf1bd6665300": {
      "model_module": "@jupyter-widgets/controls",
      "model_module_version": "1.5.0",
      "model_name": "FloatProgressModel",
      "state": {
       "_dom_classes": [],
       "_model_module": "@jupyter-widgets/controls",
       "_model_module_version": "1.5.0",
       "_model_name": "FloatProgressModel",
       "_view_count": null,
       "_view_module": "@jupyter-widgets/controls",
       "_view_module_version": "1.5.0",
       "_view_name": "ProgressView",
       "bar_style": "success",
       "description": "",
       "description_tooltip": null,
       "layout": "IPY_MODEL_1d81b27478c44e3a9fa816c5e204aeef",
       "max": 2464616,
       "min": 0,
       "orientation": "horizontal",
       "style": "IPY_MODEL_cd2e9818525f4fb08d87c2b07630517c",
       "value": 2464616
      }
     },
     "2b55b095d0f1420d9079d5f088185367": {
      "model_module": "@jupyter-widgets/controls",
      "model_module_version": "1.5.0",
      "model_name": "HBoxModel",
      "state": {
       "_dom_classes": [],
       "_model_module": "@jupyter-widgets/controls",
       "_model_module_version": "1.5.0",
       "_model_name": "HBoxModel",
       "_view_count": null,
       "_view_module": "@jupyter-widgets/controls",
       "_view_module_version": "1.5.0",
       "_view_name": "HBoxView",
       "box_style": "",
       "children": [
        "IPY_MODEL_612df77fb350487d88a71622549d87f1",
        "IPY_MODEL_692066ac94bd45829113b3f397dd7ab3",
        "IPY_MODEL_0ffc6d0a95994a6896b169e9aabb7f7e"
       ],
       "layout": "IPY_MODEL_327470aa21c248b78de0def20df2d762"
      }
     },
     "2e98b4b538584ca399c5d2fa462542c8": {
      "model_module": "@jupyter-widgets/controls",
      "model_module_version": "1.5.0",
      "model_name": "HTMLModel",
      "state": {
       "_dom_classes": [],
       "_model_module": "@jupyter-widgets/controls",
       "_model_module_version": "1.5.0",
       "_model_name": "HTMLModel",
       "_view_count": null,
       "_view_module": "@jupyter-widgets/controls",
       "_view_module_version": "1.5.0",
       "_view_name": "HTMLView",
       "description": "",
       "description_tooltip": null,
       "layout": "IPY_MODEL_fc4525c8083f40f796263624da4e29e6",
       "placeholder": "​",
       "style": "IPY_MODEL_114ce2ec98b04c04be448218c437405f",
       "value": "Downloading (…)lve/main/config.json: 100%"
      }
     },
     "327470aa21c248b78de0def20df2d762": {
      "model_module": "@jupyter-widgets/base",
      "model_module_version": "1.2.0",
      "model_name": "LayoutModel",
      "state": {
       "_model_module": "@jupyter-widgets/base",
       "_model_module_version": "1.2.0",
       "_model_name": "LayoutModel",
       "_view_count": null,
       "_view_module": "@jupyter-widgets/base",
       "_view_module_version": "1.2.0",
       "_view_name": "LayoutView",
       "align_content": null,
       "align_items": null,
       "align_self": null,
       "border": null,
       "bottom": null,
       "display": null,
       "flex": null,
       "flex_flow": null,
       "grid_area": null,
       "grid_auto_columns": null,
       "grid_auto_flow": null,
       "grid_auto_rows": null,
       "grid_column": null,
       "grid_gap": null,
       "grid_row": null,
       "grid_template_areas": null,
       "grid_template_columns": null,
       "grid_template_rows": null,
       "height": null,
       "justify_content": null,
       "justify_items": null,
       "left": null,
       "margin": null,
       "max_height": null,
       "max_width": null,
       "min_height": null,
       "min_width": null,
       "object_fit": null,
       "object_position": null,
       "order": null,
       "overflow": null,
       "overflow_x": null,
       "overflow_y": null,
       "padding": null,
       "right": null,
       "top": null,
       "visibility": null,
       "width": null
      }
     },
     "35050c4b1f684c17a6e7f7a728cd2999": {
      "model_module": "@jupyter-widgets/controls",
      "model_module_version": "1.5.0",
      "model_name": "ProgressStyleModel",
      "state": {
       "_model_module": "@jupyter-widgets/controls",
       "_model_module_version": "1.5.0",
       "_model_name": "ProgressStyleModel",
       "_view_count": null,
       "_view_module": "@jupyter-widgets/base",
       "_view_module_version": "1.2.0",
       "_view_name": "StyleView",
       "bar_color": null,
       "description_width": ""
      }
     },
     "3ba2a7dcf0f34c2db84cd3f0bab72a96": {
      "model_module": "@jupyter-widgets/controls",
      "model_module_version": "1.5.0",
      "model_name": "DescriptionStyleModel",
      "state": {
       "_model_module": "@jupyter-widgets/controls",
       "_model_module_version": "1.5.0",
       "_model_name": "DescriptionStyleModel",
       "_view_count": null,
       "_view_module": "@jupyter-widgets/base",
       "_view_module_version": "1.2.0",
       "_view_name": "StyleView",
       "description_width": ""
      }
     },
     "40ba911a1cf94aff8fd1fa9f00c14981": {
      "model_module": "@jupyter-widgets/base",
      "model_module_version": "1.2.0",
      "model_name": "LayoutModel",
      "state": {
       "_model_module": "@jupyter-widgets/base",
       "_model_module_version": "1.2.0",
       "_model_name": "LayoutModel",
       "_view_count": null,
       "_view_module": "@jupyter-widgets/base",
       "_view_module_version": "1.2.0",
       "_view_name": "LayoutView",
       "align_content": null,
       "align_items": null,
       "align_self": null,
       "border": null,
       "bottom": null,
       "display": null,
       "flex": null,
       "flex_flow": null,
       "grid_area": null,
       "grid_auto_columns": null,
       "grid_auto_flow": null,
       "grid_auto_rows": null,
       "grid_column": null,
       "grid_gap": null,
       "grid_row": null,
       "grid_template_areas": null,
       "grid_template_columns": null,
       "grid_template_rows": null,
       "height": null,
       "justify_content": null,
       "justify_items": null,
       "left": null,
       "margin": null,
       "max_height": null,
       "max_width": null,
       "min_height": null,
       "min_width": null,
       "object_fit": null,
       "object_position": null,
       "order": null,
       "overflow": null,
       "overflow_x": null,
       "overflow_y": null,
       "padding": null,
       "right": null,
       "top": null,
       "visibility": null,
       "width": null
      }
     },
     "4270a893503b42b586bd04811d2d74e9": {
      "model_module": "@jupyter-widgets/base",
      "model_module_version": "1.2.0",
      "model_name": "LayoutModel",
      "state": {
       "_model_module": "@jupyter-widgets/base",
       "_model_module_version": "1.2.0",
       "_model_name": "LayoutModel",
       "_view_count": null,
       "_view_module": "@jupyter-widgets/base",
       "_view_module_version": "1.2.0",
       "_view_name": "LayoutView",
       "align_content": null,
       "align_items": null,
       "align_self": null,
       "border": null,
       "bottom": null,
       "display": null,
       "flex": null,
       "flex_flow": null,
       "grid_area": null,
       "grid_auto_columns": null,
       "grid_auto_flow": null,
       "grid_auto_rows": null,
       "grid_column": null,
       "grid_gap": null,
       "grid_row": null,
       "grid_template_areas": null,
       "grid_template_columns": null,
       "grid_template_rows": null,
       "height": null,
       "justify_content": null,
       "justify_items": null,
       "left": null,
       "margin": null,
       "max_height": null,
       "max_width": null,
       "min_height": null,
       "min_width": null,
       "object_fit": null,
       "object_position": null,
       "order": null,
       "overflow": null,
       "overflow_x": null,
       "overflow_y": null,
       "padding": null,
       "right": null,
       "top": null,
       "visibility": null,
       "width": null
      }
     },
     "461850a2417746aaabcdf544a957afc3": {
      "model_module": "@jupyter-widgets/base",
      "model_module_version": "1.2.0",
      "model_name": "LayoutModel",
      "state": {
       "_model_module": "@jupyter-widgets/base",
       "_model_module_version": "1.2.0",
       "_model_name": "LayoutModel",
       "_view_count": null,
       "_view_module": "@jupyter-widgets/base",
       "_view_module_version": "1.2.0",
       "_view_name": "LayoutView",
       "align_content": null,
       "align_items": null,
       "align_self": null,
       "border": null,
       "bottom": null,
       "display": null,
       "flex": null,
       "flex_flow": null,
       "grid_area": null,
       "grid_auto_columns": null,
       "grid_auto_flow": null,
       "grid_auto_rows": null,
       "grid_column": null,
       "grid_gap": null,
       "grid_row": null,
       "grid_template_areas": null,
       "grid_template_columns": null,
       "grid_template_rows": null,
       "height": null,
       "justify_content": null,
       "justify_items": null,
       "left": null,
       "margin": null,
       "max_height": null,
       "max_width": null,
       "min_height": null,
       "min_width": null,
       "object_fit": null,
       "object_position": null,
       "order": null,
       "overflow": null,
       "overflow_x": null,
       "overflow_y": null,
       "padding": null,
       "right": null,
       "top": null,
       "visibility": null,
       "width": null
      }
     },
     "46c841a3a6604be299e8d6c61108d5fb": {
      "model_module": "@jupyter-widgets/base",
      "model_module_version": "1.2.0",
      "model_name": "LayoutModel",
      "state": {
       "_model_module": "@jupyter-widgets/base",
       "_model_module_version": "1.2.0",
       "_model_name": "LayoutModel",
       "_view_count": null,
       "_view_module": "@jupyter-widgets/base",
       "_view_module_version": "1.2.0",
       "_view_name": "LayoutView",
       "align_content": null,
       "align_items": null,
       "align_self": null,
       "border": null,
       "bottom": null,
       "display": null,
       "flex": null,
       "flex_flow": null,
       "grid_area": null,
       "grid_auto_columns": null,
       "grid_auto_flow": null,
       "grid_auto_rows": null,
       "grid_column": null,
       "grid_gap": null,
       "grid_row": null,
       "grid_template_areas": null,
       "grid_template_columns": null,
       "grid_template_rows": null,
       "height": null,
       "justify_content": null,
       "justify_items": null,
       "left": null,
       "margin": null,
       "max_height": null,
       "max_width": null,
       "min_height": null,
       "min_width": null,
       "object_fit": null,
       "object_position": null,
       "order": null,
       "overflow": null,
       "overflow_x": null,
       "overflow_y": null,
       "padding": null,
       "right": null,
       "top": null,
       "visibility": null,
       "width": null
      }
     },
     "4c7e024687a74a31815d136c7dc82081": {
      "model_module": "@jupyter-widgets/controls",
      "model_module_version": "1.5.0",
      "model_name": "HBoxModel",
      "state": {
       "_dom_classes": [],
       "_model_module": "@jupyter-widgets/controls",
       "_model_module_version": "1.5.0",
       "_model_name": "HBoxModel",
       "_view_count": null,
       "_view_module": "@jupyter-widgets/controls",
       "_view_module_version": "1.5.0",
       "_view_name": "HBoxView",
       "box_style": "",
       "children": [
        "IPY_MODEL_2e98b4b538584ca399c5d2fa462542c8",
        "IPY_MODEL_81f220f7d81245d794225912084c5d29",
        "IPY_MODEL_59e2a925d69447ffa4ffaa5fab209064"
       ],
       "layout": "IPY_MODEL_01009335f37a4db6b0387d6ddbd4ca45"
      }
     },
     "5802a20e713c40879850d99da5eb9759": {
      "model_module": "@jupyter-widgets/controls",
      "model_module_version": "1.5.0",
      "model_name": "DescriptionStyleModel",
      "state": {
       "_model_module": "@jupyter-widgets/controls",
       "_model_module_version": "1.5.0",
       "_model_name": "DescriptionStyleModel",
       "_view_count": null,
       "_view_module": "@jupyter-widgets/base",
       "_view_module_version": "1.2.0",
       "_view_name": "StyleView",
       "description_width": ""
      }
     },
     "59e2a925d69447ffa4ffaa5fab209064": {
      "model_module": "@jupyter-widgets/controls",
      "model_module_version": "1.5.0",
      "model_name": "HTMLModel",
      "state": {
       "_dom_classes": [],
       "_model_module": "@jupyter-widgets/controls",
       "_model_module_version": "1.5.0",
       "_model_name": "HTMLModel",
       "_view_count": null,
       "_view_module": "@jupyter-widgets/controls",
       "_view_module_version": "1.5.0",
       "_view_name": "HTMLView",
       "description": "",
       "description_tooltip": null,
       "layout": "IPY_MODEL_fb7a461ce4c84acfbe98bc1029dbf93b",
       "placeholder": "​",
       "style": "IPY_MODEL_6de78a0f1a244d2bad685e4d5363b91c",
       "value": " 579/579 [00:00&lt;00:00, 46.9kB/s]"
      }
     },
     "5a8c5f62da2a43fcb57e8dda5c190196": {
      "model_module": "@jupyter-widgets/controls",
      "model_module_version": "1.5.0",
      "model_name": "ProgressStyleModel",
      "state": {
       "_model_module": "@jupyter-widgets/controls",
       "_model_module_version": "1.5.0",
       "_model_name": "ProgressStyleModel",
       "_view_count": null,
       "_view_module": "@jupyter-widgets/base",
       "_view_module_version": "1.2.0",
       "_view_name": "StyleView",
       "bar_color": null,
       "description_width": ""
      }
     },
     "612df77fb350487d88a71622549d87f1": {
      "model_module": "@jupyter-widgets/controls",
      "model_module_version": "1.5.0",
      "model_name": "HTMLModel",
      "state": {
       "_dom_classes": [],
       "_model_module": "@jupyter-widgets/controls",
       "_model_module_version": "1.5.0",
       "_model_name": "HTMLModel",
       "_view_count": null,
       "_view_module": "@jupyter-widgets/controls",
       "_view_module_version": "1.5.0",
       "_view_name": "HTMLView",
       "description": "",
       "description_tooltip": null,
       "layout": "IPY_MODEL_d825156f4ce0452199e4a2c102bcc27c",
       "placeholder": "​",
       "style": "IPY_MODEL_7ba7eedbe21b4857a33a3f5e4ddcfd0d",
       "value": "Downloading (…)okenizer_config.json: 100%"
      }
     },
     "6164a73253bb45d2b40bd2168e5c7d33": {
      "model_module": "@jupyter-widgets/base",
      "model_module_version": "1.2.0",
      "model_name": "LayoutModel",
      "state": {
       "_model_module": "@jupyter-widgets/base",
       "_model_module_version": "1.2.0",
       "_model_name": "LayoutModel",
       "_view_count": null,
       "_view_module": "@jupyter-widgets/base",
       "_view_module_version": "1.2.0",
       "_view_name": "LayoutView",
       "align_content": null,
       "align_items": null,
       "align_self": null,
       "border": null,
       "bottom": null,
       "display": null,
       "flex": null,
       "flex_flow": null,
       "grid_area": null,
       "grid_auto_columns": null,
       "grid_auto_flow": null,
       "grid_auto_rows": null,
       "grid_column": null,
       "grid_gap": null,
       "grid_row": null,
       "grid_template_areas": null,
       "grid_template_columns": null,
       "grid_template_rows": null,
       "height": null,
       "justify_content": null,
       "justify_items": null,
       "left": null,
       "margin": null,
       "max_height": null,
       "max_width": null,
       "min_height": null,
       "min_width": null,
       "object_fit": null,
       "object_position": null,
       "order": null,
       "overflow": null,
       "overflow_x": null,
       "overflow_y": null,
       "padding": null,
       "right": null,
       "top": null,
       "visibility": null,
       "width": null
      }
     },
     "692066ac94bd45829113b3f397dd7ab3": {
      "model_module": "@jupyter-widgets/controls",
      "model_module_version": "1.5.0",
      "model_name": "FloatProgressModel",
      "state": {
       "_dom_classes": [],
       "_model_module": "@jupyter-widgets/controls",
       "_model_module_version": "1.5.0",
       "_model_name": "FloatProgressModel",
       "_view_count": null,
       "_view_module": "@jupyter-widgets/controls",
       "_view_module_version": "1.5.0",
       "_view_name": "ProgressView",
       "bar_style": "success",
       "description": "",
       "description_tooltip": null,
       "layout": "IPY_MODEL_a42df142245349f5985d13c43485b41e",
       "max": 52,
       "min": 0,
       "orientation": "horizontal",
       "style": "IPY_MODEL_5a8c5f62da2a43fcb57e8dda5c190196",
       "value": 52
      }
     },
     "6de78a0f1a244d2bad685e4d5363b91c": {
      "model_module": "@jupyter-widgets/controls",
      "model_module_version": "1.5.0",
      "model_name": "DescriptionStyleModel",
      "state": {
       "_model_module": "@jupyter-widgets/controls",
       "_model_module_version": "1.5.0",
       "_model_name": "DescriptionStyleModel",
       "_view_count": null,
       "_view_module": "@jupyter-widgets/base",
       "_view_module_version": "1.2.0",
       "_view_name": "StyleView",
       "description_width": ""
      }
     },
     "72ce6d4bc9794521a5ded20aa5f1952f": {
      "model_module": "@jupyter-widgets/controls",
      "model_module_version": "1.5.0",
      "model_name": "HTMLModel",
      "state": {
       "_dom_classes": [],
       "_model_module": "@jupyter-widgets/controls",
       "_model_module_version": "1.5.0",
       "_model_name": "HTMLModel",
       "_view_count": null,
       "_view_module": "@jupyter-widgets/controls",
       "_view_module_version": "1.5.0",
       "_view_name": "HTMLView",
       "description": "",
       "description_tooltip": null,
       "layout": "IPY_MODEL_cd58abc99d67429a9378d368a0f21053",
       "placeholder": "​",
       "style": "IPY_MODEL_5802a20e713c40879850d99da5eb9759",
       "value": "Downloading spm.model: 100%"
      }
     },
     "7b55879ead8f4a88a42ea1dc15cc649c": {
      "model_module": "@jupyter-widgets/base",
      "model_module_version": "1.2.0",
      "model_name": "LayoutModel",
      "state": {
       "_model_module": "@jupyter-widgets/base",
       "_model_module_version": "1.2.0",
       "_model_name": "LayoutModel",
       "_view_count": null,
       "_view_module": "@jupyter-widgets/base",
       "_view_module_version": "1.2.0",
       "_view_name": "LayoutView",
       "align_content": null,
       "align_items": null,
       "align_self": null,
       "border": null,
       "bottom": null,
       "display": null,
       "flex": null,
       "flex_flow": null,
       "grid_area": null,
       "grid_auto_columns": null,
       "grid_auto_flow": null,
       "grid_auto_rows": null,
       "grid_column": null,
       "grid_gap": null,
       "grid_row": null,
       "grid_template_areas": null,
       "grid_template_columns": null,
       "grid_template_rows": null,
       "height": null,
       "justify_content": null,
       "justify_items": null,
       "left": null,
       "margin": null,
       "max_height": null,
       "max_width": null,
       "min_height": null,
       "min_width": null,
       "object_fit": null,
       "object_position": null,
       "order": null,
       "overflow": null,
       "overflow_x": null,
       "overflow_y": null,
       "padding": null,
       "right": null,
       "top": null,
       "visibility": null,
       "width": null
      }
     },
     "7ba7eedbe21b4857a33a3f5e4ddcfd0d": {
      "model_module": "@jupyter-widgets/controls",
      "model_module_version": "1.5.0",
      "model_name": "DescriptionStyleModel",
      "state": {
       "_model_module": "@jupyter-widgets/controls",
       "_model_module_version": "1.5.0",
       "_model_name": "DescriptionStyleModel",
       "_view_count": null,
       "_view_module": "@jupyter-widgets/base",
       "_view_module_version": "1.2.0",
       "_view_name": "StyleView",
       "description_width": ""
      }
     },
     "7c47c34920aa4ab5a62225aad26fd708": {
      "model_module": "@jupyter-widgets/controls",
      "model_module_version": "1.5.0",
      "model_name": "HTMLModel",
      "state": {
       "_dom_classes": [],
       "_model_module": "@jupyter-widgets/controls",
       "_model_module_version": "1.5.0",
       "_model_name": "HTMLModel",
       "_view_count": null,
       "_view_module": "@jupyter-widgets/controls",
       "_view_module_version": "1.5.0",
       "_view_name": "HTMLView",
       "description": "",
       "description_tooltip": null,
       "layout": "IPY_MODEL_461850a2417746aaabcdf544a957afc3",
       "placeholder": "​",
       "style": "IPY_MODEL_f5dab12ad48645bcae6501ef48df83d9",
       "value": "Downloading pytorch_model.bin: 100%"
      }
     },
     "81f220f7d81245d794225912084c5d29": {
      "model_module": "@jupyter-widgets/controls",
      "model_module_version": "1.5.0",
      "model_name": "FloatProgressModel",
      "state": {
       "_dom_classes": [],
       "_model_module": "@jupyter-widgets/controls",
       "_model_module_version": "1.5.0",
       "_model_name": "FloatProgressModel",
       "_view_count": null,
       "_view_module": "@jupyter-widgets/controls",
       "_view_module_version": "1.5.0",
       "_view_name": "ProgressView",
       "bar_style": "success",
       "description": "",
       "description_tooltip": null,
       "layout": "IPY_MODEL_46c841a3a6604be299e8d6c61108d5fb",
       "max": 579,
       "min": 0,
       "orientation": "horizontal",
       "style": "IPY_MODEL_35050c4b1f684c17a6e7f7a728cd2999",
       "value": 579
      }
     },
     "877a683ca759405ca2ea12569ec53544": {
      "model_module": "@jupyter-widgets/controls",
      "model_module_version": "1.5.0",
      "model_name": "DescriptionStyleModel",
      "state": {
       "_model_module": "@jupyter-widgets/controls",
       "_model_module_version": "1.5.0",
       "_model_name": "DescriptionStyleModel",
       "_view_count": null,
       "_view_module": "@jupyter-widgets/base",
       "_view_module_version": "1.2.0",
       "_view_name": "StyleView",
       "description_width": ""
      }
     },
     "87a7a909986c40ad86094a44ff714cf8": {
      "model_module": "@jupyter-widgets/controls",
      "model_module_version": "1.5.0",
      "model_name": "HBoxModel",
      "state": {
       "_dom_classes": [],
       "_model_module": "@jupyter-widgets/controls",
       "_model_module_version": "1.5.0",
       "_model_name": "HBoxModel",
       "_view_count": null,
       "_view_module": "@jupyter-widgets/controls",
       "_view_module_version": "1.5.0",
       "_view_name": "HBoxView",
       "box_style": "",
       "children": [
        "IPY_MODEL_72ce6d4bc9794521a5ded20aa5f1952f",
        "IPY_MODEL_256cfa8dc8404a6cb6dadf1bd6665300",
        "IPY_MODEL_107bc7bdadcf4a90b11d26bbfdb3947f"
       ],
       "layout": "IPY_MODEL_40ba911a1cf94aff8fd1fa9f00c14981"
      }
     },
     "a42df142245349f5985d13c43485b41e": {
      "model_module": "@jupyter-widgets/base",
      "model_module_version": "1.2.0",
      "model_name": "LayoutModel",
      "state": {
       "_model_module": "@jupyter-widgets/base",
       "_model_module_version": "1.2.0",
       "_model_name": "LayoutModel",
       "_view_count": null,
       "_view_module": "@jupyter-widgets/base",
       "_view_module_version": "1.2.0",
       "_view_name": "LayoutView",
       "align_content": null,
       "align_items": null,
       "align_self": null,
       "border": null,
       "bottom": null,
       "display": null,
       "flex": null,
       "flex_flow": null,
       "grid_area": null,
       "grid_auto_columns": null,
       "grid_auto_flow": null,
       "grid_auto_rows": null,
       "grid_column": null,
       "grid_gap": null,
       "grid_row": null,
       "grid_template_areas": null,
       "grid_template_columns": null,
       "grid_template_rows": null,
       "height": null,
       "justify_content": null,
       "justify_items": null,
       "left": null,
       "margin": null,
       "max_height": null,
       "max_width": null,
       "min_height": null,
       "min_width": null,
       "object_fit": null,
       "object_position": null,
       "order": null,
       "overflow": null,
       "overflow_x": null,
       "overflow_y": null,
       "padding": null,
       "right": null,
       "top": null,
       "visibility": null,
       "width": null
      }
     },
     "b86e3ef81420494697fc960a6c9a7bd8": {
      "model_module": "@jupyter-widgets/controls",
      "model_module_version": "1.5.0",
      "model_name": "FloatProgressModel",
      "state": {
       "_dom_classes": [],
       "_model_module": "@jupyter-widgets/controls",
       "_model_module_version": "1.5.0",
       "_model_name": "FloatProgressModel",
       "_view_count": null,
       "_view_module": "@jupyter-widgets/controls",
       "_view_module_version": "1.5.0",
       "_view_name": "ProgressView",
       "bar_style": "success",
       "description": "",
       "description_tooltip": null,
       "layout": "IPY_MODEL_f95f0992c0b549728d6ab597914b087d",
       "max": 371146213,
       "min": 0,
       "orientation": "horizontal",
       "style": "IPY_MODEL_f15cac4d7ffe4f2ebccecc7a68568caf",
       "value": 371146213
      }
     },
     "cae3485c0b6d4f95a1a1b8f5991ce565": {
      "model_module": "@jupyter-widgets/base",
      "model_module_version": "1.2.0",
      "model_name": "LayoutModel",
      "state": {
       "_model_module": "@jupyter-widgets/base",
       "_model_module_version": "1.2.0",
       "_model_name": "LayoutModel",
       "_view_count": null,
       "_view_module": "@jupyter-widgets/base",
       "_view_module_version": "1.2.0",
       "_view_name": "LayoutView",
       "align_content": null,
       "align_items": null,
       "align_self": null,
       "border": null,
       "bottom": null,
       "display": null,
       "flex": null,
       "flex_flow": null,
       "grid_area": null,
       "grid_auto_columns": null,
       "grid_auto_flow": null,
       "grid_auto_rows": null,
       "grid_column": null,
       "grid_gap": null,
       "grid_row": null,
       "grid_template_areas": null,
       "grid_template_columns": null,
       "grid_template_rows": null,
       "height": null,
       "justify_content": null,
       "justify_items": null,
       "left": null,
       "margin": null,
       "max_height": null,
       "max_width": null,
       "min_height": null,
       "min_width": null,
       "object_fit": null,
       "object_position": null,
       "order": null,
       "overflow": null,
       "overflow_x": null,
       "overflow_y": null,
       "padding": null,
       "right": null,
       "top": null,
       "visibility": null,
       "width": null
      }
     },
     "cd2e9818525f4fb08d87c2b07630517c": {
      "model_module": "@jupyter-widgets/controls",
      "model_module_version": "1.5.0",
      "model_name": "ProgressStyleModel",
      "state": {
       "_model_module": "@jupyter-widgets/controls",
       "_model_module_version": "1.5.0",
       "_model_name": "ProgressStyleModel",
       "_view_count": null,
       "_view_module": "@jupyter-widgets/base",
       "_view_module_version": "1.2.0",
       "_view_name": "StyleView",
       "bar_color": null,
       "description_width": ""
      }
     },
     "cd58abc99d67429a9378d368a0f21053": {
      "model_module": "@jupyter-widgets/base",
      "model_module_version": "1.2.0",
      "model_name": "LayoutModel",
      "state": {
       "_model_module": "@jupyter-widgets/base",
       "_model_module_version": "1.2.0",
       "_model_name": "LayoutModel",
       "_view_count": null,
       "_view_module": "@jupyter-widgets/base",
       "_view_module_version": "1.2.0",
       "_view_name": "LayoutView",
       "align_content": null,
       "align_items": null,
       "align_self": null,
       "border": null,
       "bottom": null,
       "display": null,
       "flex": null,
       "flex_flow": null,
       "grid_area": null,
       "grid_auto_columns": null,
       "grid_auto_flow": null,
       "grid_auto_rows": null,
       "grid_column": null,
       "grid_gap": null,
       "grid_row": null,
       "grid_template_areas": null,
       "grid_template_columns": null,
       "grid_template_rows": null,
       "height": null,
       "justify_content": null,
       "justify_items": null,
       "left": null,
       "margin": null,
       "max_height": null,
       "max_width": null,
       "min_height": null,
       "min_width": null,
       "object_fit": null,
       "object_position": null,
       "order": null,
       "overflow": null,
       "overflow_x": null,
       "overflow_y": null,
       "padding": null,
       "right": null,
       "top": null,
       "visibility": null,
       "width": null
      }
     },
     "d6dbe59f6f26409caa68d3162c59c0d1": {
      "model_module": "@jupyter-widgets/controls",
      "model_module_version": "1.5.0",
      "model_name": "HTMLModel",
      "state": {
       "_dom_classes": [],
       "_model_module": "@jupyter-widgets/controls",
       "_model_module_version": "1.5.0",
       "_model_name": "HTMLModel",
       "_view_count": null,
       "_view_module": "@jupyter-widgets/controls",
       "_view_module_version": "1.5.0",
       "_view_name": "HTMLView",
       "description": "",
       "description_tooltip": null,
       "layout": "IPY_MODEL_cae3485c0b6d4f95a1a1b8f5991ce565",
       "placeholder": "​",
       "style": "IPY_MODEL_3ba2a7dcf0f34c2db84cd3f0bab72a96",
       "value": " 371M/371M [00:01&lt;00:00, 292MB/s]"
      }
     },
     "d825156f4ce0452199e4a2c102bcc27c": {
      "model_module": "@jupyter-widgets/base",
      "model_module_version": "1.2.0",
      "model_name": "LayoutModel",
      "state": {
       "_model_module": "@jupyter-widgets/base",
       "_model_module_version": "1.2.0",
       "_model_name": "LayoutModel",
       "_view_count": null,
       "_view_module": "@jupyter-widgets/base",
       "_view_module_version": "1.2.0",
       "_view_name": "LayoutView",
       "align_content": null,
       "align_items": null,
       "align_self": null,
       "border": null,
       "bottom": null,
       "display": null,
       "flex": null,
       "flex_flow": null,
       "grid_area": null,
       "grid_auto_columns": null,
       "grid_auto_flow": null,
       "grid_auto_rows": null,
       "grid_column": null,
       "grid_gap": null,
       "grid_row": null,
       "grid_template_areas": null,
       "grid_template_columns": null,
       "grid_template_rows": null,
       "height": null,
       "justify_content": null,
       "justify_items": null,
       "left": null,
       "margin": null,
       "max_height": null,
       "max_width": null,
       "min_height": null,
       "min_width": null,
       "object_fit": null,
       "object_position": null,
       "order": null,
       "overflow": null,
       "overflow_x": null,
       "overflow_y": null,
       "padding": null,
       "right": null,
       "top": null,
       "visibility": null,
       "width": null
      }
     },
     "f15cac4d7ffe4f2ebccecc7a68568caf": {
      "model_module": "@jupyter-widgets/controls",
      "model_module_version": "1.5.0",
      "model_name": "ProgressStyleModel",
      "state": {
       "_model_module": "@jupyter-widgets/controls",
       "_model_module_version": "1.5.0",
       "_model_name": "ProgressStyleModel",
       "_view_count": null,
       "_view_module": "@jupyter-widgets/base",
       "_view_module_version": "1.2.0",
       "_view_name": "StyleView",
       "bar_color": null,
       "description_width": ""
      }
     },
     "f5dab12ad48645bcae6501ef48df83d9": {
      "model_module": "@jupyter-widgets/controls",
      "model_module_version": "1.5.0",
      "model_name": "DescriptionStyleModel",
      "state": {
       "_model_module": "@jupyter-widgets/controls",
       "_model_module_version": "1.5.0",
       "_model_name": "DescriptionStyleModel",
       "_view_count": null,
       "_view_module": "@jupyter-widgets/base",
       "_view_module_version": "1.2.0",
       "_view_name": "StyleView",
       "description_width": ""
      }
     },
     "f95f0992c0b549728d6ab597914b087d": {
      "model_module": "@jupyter-widgets/base",
      "model_module_version": "1.2.0",
      "model_name": "LayoutModel",
      "state": {
       "_model_module": "@jupyter-widgets/base",
       "_model_module_version": "1.2.0",
       "_model_name": "LayoutModel",
       "_view_count": null,
       "_view_module": "@jupyter-widgets/base",
       "_view_module_version": "1.2.0",
       "_view_name": "LayoutView",
       "align_content": null,
       "align_items": null,
       "align_self": null,
       "border": null,
       "bottom": null,
       "display": null,
       "flex": null,
       "flex_flow": null,
       "grid_area": null,
       "grid_auto_columns": null,
       "grid_auto_flow": null,
       "grid_auto_rows": null,
       "grid_column": null,
       "grid_gap": null,
       "grid_row": null,
       "grid_template_areas": null,
       "grid_template_columns": null,
       "grid_template_rows": null,
       "height": null,
       "justify_content": null,
       "justify_items": null,
       "left": null,
       "margin": null,
       "max_height": null,
       "max_width": null,
       "min_height": null,
       "min_width": null,
       "object_fit": null,
       "object_position": null,
       "order": null,
       "overflow": null,
       "overflow_x": null,
       "overflow_y": null,
       "padding": null,
       "right": null,
       "top": null,
       "visibility": null,
       "width": null
      }
     },
     "fb7a461ce4c84acfbe98bc1029dbf93b": {
      "model_module": "@jupyter-widgets/base",
      "model_module_version": "1.2.0",
      "model_name": "LayoutModel",
      "state": {
       "_model_module": "@jupyter-widgets/base",
       "_model_module_version": "1.2.0",
       "_model_name": "LayoutModel",
       "_view_count": null,
       "_view_module": "@jupyter-widgets/base",
       "_view_module_version": "1.2.0",
       "_view_name": "LayoutView",
       "align_content": null,
       "align_items": null,
       "align_self": null,
       "border": null,
       "bottom": null,
       "display": null,
       "flex": null,
       "flex_flow": null,
       "grid_area": null,
       "grid_auto_columns": null,
       "grid_auto_flow": null,
       "grid_auto_rows": null,
       "grid_column": null,
       "grid_gap": null,
       "grid_row": null,
       "grid_template_areas": null,
       "grid_template_columns": null,
       "grid_template_rows": null,
       "height": null,
       "justify_content": null,
       "justify_items": null,
       "left": null,
       "margin": null,
       "max_height": null,
       "max_width": null,
       "min_height": null,
       "min_width": null,
       "object_fit": null,
       "object_position": null,
       "order": null,
       "overflow": null,
       "overflow_x": null,
       "overflow_y": null,
       "padding": null,
       "right": null,
       "top": null,
       "visibility": null,
       "width": null
      }
     },
     "fc4525c8083f40f796263624da4e29e6": {
      "model_module": "@jupyter-widgets/base",
      "model_module_version": "1.2.0",
      "model_name": "LayoutModel",
      "state": {
       "_model_module": "@jupyter-widgets/base",
       "_model_module_version": "1.2.0",
       "_model_name": "LayoutModel",
       "_view_count": null,
       "_view_module": "@jupyter-widgets/base",
       "_view_module_version": "1.2.0",
       "_view_name": "LayoutView",
       "align_content": null,
       "align_items": null,
       "align_self": null,
       "border": null,
       "bottom": null,
       "display": null,
       "flex": null,
       "flex_flow": null,
       "grid_area": null,
       "grid_auto_columns": null,
       "grid_auto_flow": null,
       "grid_auto_rows": null,
       "grid_column": null,
       "grid_gap": null,
       "grid_row": null,
       "grid_template_areas": null,
       "grid_template_columns": null,
       "grid_template_rows": null,
       "height": null,
       "justify_content": null,
       "justify_items": null,
       "left": null,
       "margin": null,
       "max_height": null,
       "max_width": null,
       "min_height": null,
       "min_width": null,
       "object_fit": null,
       "object_position": null,
       "order": null,
       "overflow": null,
       "overflow_x": null,
       "overflow_y": null,
       "padding": null,
       "right": null,
       "top": null,
       "visibility": null,
       "width": null
      }
     }
    },
    "version_major": 2,
    "version_minor": 0
   }
  }
 },
 "nbformat": 4,
 "nbformat_minor": 5
}
