{
 "cells": [
  {
   "cell_type": "markdown",
   "id": "b63794a6",
   "metadata": {
    "papermill": {
     "duration": 0.005305,
     "end_time": "2024-03-18T19:17:03.922447",
     "exception": false,
     "start_time": "2024-03-18T19:17:03.917142",
     "status": "completed"
    },
    "tags": []
   },
   "source": [
    "# Using lecture baseline as my baseline"
   ]
  },
  {
   "cell_type": "code",
   "execution_count": 1,
   "id": "28ac0369",
   "metadata": {
    "execution": {
     "iopub.execute_input": "2024-03-18T19:17:03.933763Z",
     "iopub.status.busy": "2024-03-18T19:17:03.933318Z",
     "iopub.status.idle": "2024-03-18T19:17:25.951692Z",
     "shell.execute_reply": "2024-03-18T19:17:25.950615Z"
    },
    "papermill": {
     "duration": 22.026732,
     "end_time": "2024-03-18T19:17:25.954059",
     "exception": false,
     "start_time": "2024-03-18T19:17:03.927327",
     "status": "completed"
    },
    "tags": []
   },
   "outputs": [
    {
     "name": "stdout",
     "output_type": "stream",
     "text": [
      "\u001b[31mERROR: pip's dependency resolver does not currently take into account all the packages that are installed. This behaviour is the source of the following dependency conflicts.\r\n",
      "aiobotocore 2.7.0 requires botocore<1.31.65,>=1.31.16, but you have botocore 1.34.64 which is incompatible.\u001b[0m\u001b[31m\r\n",
      "\u001b[0m"
     ]
    }
   ],
   "source": [
    "!pip install neptune > /dev/null"
   ]
  },
  {
   "cell_type": "code",
   "execution_count": 2,
   "id": "0dadf9f8",
   "metadata": {
    "execution": {
     "iopub.execute_input": "2024-03-18T19:17:25.965564Z",
     "iopub.status.busy": "2024-03-18T19:17:25.965248Z",
     "iopub.status.idle": "2024-03-18T19:17:34.371971Z",
     "shell.execute_reply": "2024-03-18T19:17:34.371002Z"
    },
    "papermill": {
     "duration": 8.415337,
     "end_time": "2024-03-18T19:17:34.374517",
     "exception": false,
     "start_time": "2024-03-18T19:17:25.959180",
     "status": "completed"
    },
    "tags": []
   },
   "outputs": [
    {
     "name": "stderr",
     "output_type": "stream",
     "text": [
      "/opt/conda/lib/python3.10/site-packages/torchvision/datapoints/__init__.py:12: UserWarning: The torchvision.datapoints and torchvision.transforms.v2 namespaces are still Beta. While we do not expect major breaking changes, some APIs may still change according to user feedback. Please submit any feedback you may have in this issue: https://github.com/pytorch/vision/issues/6753, and you can also check out https://github.com/pytorch/vision/issues/7319 to learn more about the APIs that we suspect might involve future changes. You can silence this warning by calling torchvision.disable_beta_transforms_warning().\n",
      "  warnings.warn(_BETA_TRANSFORMS_WARNING)\n",
      "/opt/conda/lib/python3.10/site-packages/torchvision/transforms/v2/__init__.py:54: UserWarning: The torchvision.datapoints and torchvision.transforms.v2 namespaces are still Beta. While we do not expect major breaking changes, some APIs may still change according to user feedback. Please submit any feedback you may have in this issue: https://github.com/pytorch/vision/issues/6753, and you can also check out https://github.com/pytorch/vision/issues/7319 to learn more about the APIs that we suspect might involve future changes. You can silence this warning by calling torchvision.disable_beta_transforms_warning().\n",
      "  warnings.warn(_BETA_TRANSFORMS_WARNING)\n",
      "/opt/conda/lib/python3.10/site-packages/scipy/__init__.py:146: UserWarning: A NumPy version >=1.16.5 and <1.23.0 is required for this version of SciPy (detected version 1.24.3\n",
      "  warnings.warn(f\"A NumPy version >={np_minversion} and <{np_maxversion}\"\n"
     ]
    },
    {
     "name": "stdout",
     "output_type": "stream",
     "text": [
      "{'Andy-Warhol': 0, 'Claude-Monet': 1, 'Pablo-Picasso': 2, 'Rembrandt-Harmenszoon-van-Rijn': 3, 'Salvador-Dali': 4, 'Vincent-van-Gogh': 5}\n"
     ]
    },
    {
     "data": {
      "text/html": [
       "<div>\n",
       "<style scoped>\n",
       "    .dataframe tbody tr th:only-of-type {\n",
       "        vertical-align: middle;\n",
       "    }\n",
       "\n",
       "    .dataframe tbody tr th {\n",
       "        vertical-align: top;\n",
       "    }\n",
       "\n",
       "    .dataframe thead th {\n",
       "        text-align: right;\n",
       "    }\n",
       "</style>\n",
       "<table border=\"1\" class=\"dataframe\">\n",
       "  <thead>\n",
       "    <tr style=\"text-align: right;\">\n",
       "      <th></th>\n",
       "      <th>image_id</th>\n",
       "      <th>label</th>\n",
       "      <th>image</th>\n",
       "      <th>fold</th>\n",
       "    </tr>\n",
       "  </thead>\n",
       "  <tbody>\n",
       "    <tr>\n",
       "      <th>0</th>\n",
       "      <td>2344.png</td>\n",
       "      <td>Claude-Monet</td>\n",
       "      <td>/kaggle/input/nie-pdl23-final-competition/imag...</td>\n",
       "      <td>0</td>\n",
       "    </tr>\n",
       "    <tr>\n",
       "      <th>1</th>\n",
       "      <td>6366.png</td>\n",
       "      <td>Salvador-Dali</td>\n",
       "      <td>/kaggle/input/nie-pdl23-final-competition/imag...</td>\n",
       "      <td>1</td>\n",
       "    </tr>\n",
       "    <tr>\n",
       "      <th>2</th>\n",
       "      <td>5133.png</td>\n",
       "      <td>Rembrandt-Harmenszoon-van-Rijn</td>\n",
       "      <td>/kaggle/input/nie-pdl23-final-competition/imag...</td>\n",
       "      <td>2</td>\n",
       "    </tr>\n",
       "    <tr>\n",
       "      <th>3</th>\n",
       "      <td>3685.png</td>\n",
       "      <td>Salvador-Dali</td>\n",
       "      <td>/kaggle/input/nie-pdl23-final-competition/imag...</td>\n",
       "      <td>3</td>\n",
       "    </tr>\n",
       "    <tr>\n",
       "      <th>4</th>\n",
       "      <td>6938.png</td>\n",
       "      <td>Claude-Monet</td>\n",
       "      <td>/kaggle/input/nie-pdl23-final-competition/imag...</td>\n",
       "      <td>4</td>\n",
       "    </tr>\n",
       "  </tbody>\n",
       "</table>\n",
       "</div>"
      ],
      "text/plain": [
       "   image_id                           label  \\\n",
       "0  2344.png                    Claude-Monet   \n",
       "1  6366.png                   Salvador-Dali   \n",
       "2  5133.png  Rembrandt-Harmenszoon-van-Rijn   \n",
       "3  3685.png                   Salvador-Dali   \n",
       "4  6938.png                    Claude-Monet   \n",
       "\n",
       "                                               image  fold  \n",
       "0  /kaggle/input/nie-pdl23-final-competition/imag...     0  \n",
       "1  /kaggle/input/nie-pdl23-final-competition/imag...     1  \n",
       "2  /kaggle/input/nie-pdl23-final-competition/imag...     2  \n",
       "3  /kaggle/input/nie-pdl23-final-competition/imag...     3  \n",
       "4  /kaggle/input/nie-pdl23-final-competition/imag...     4  "
      ]
     },
     "execution_count": 2,
     "metadata": {},
     "output_type": "execute_result"
    }
   ],
   "source": [
    "import glob\n",
    "import pandas as pd\n",
    "import neptune\n",
    "import numpy as np\n",
    "import torch\n",
    "from torch.utils.data import Dataset, DataLoader\n",
    "import pandas as pd\n",
    "import os\n",
    "from torchvision.transforms.v2 import *\n",
    "from PIL import Image\n",
    "import timm\n",
    "import random\n",
    "\n",
    "from sklearn.metrics import roc_auc_score, accuracy_score, log_loss\n",
    "from transformers import get_cosine_schedule_with_warmup\n",
    "from tqdm import tqdm\n",
    "from torch import autocast, nn, sigmoid, softmax\n",
    "from torch.distributions.beta import Beta\n",
    "from torch.distributions.uniform import Uniform\n",
    "\n",
    "train_df = pd.read_csv(\"/kaggle/input/nie-pdl23-final-competition/train.csv\")\n",
    "test_df = pd.read_csv(\"/kaggle/input/nie-pdl23-final-competition/test.csv\")\n",
    "\n",
    "lbl_map = {lbl:i for i, lbl in enumerate(sorted(set(train_df[\"label\"])))}\n",
    "print(lbl_map)\n",
    "\n",
    "train_df[\"image\"] = \"/kaggle/input/nie-pdl23-final-competition/images/\"+ train_df[\"image_id\"]\n",
    "train_df[\"fold\"] = train_df.index%5\n",
    "test_df[\"image\"] = \"/kaggle/input/nie-pdl23-final-competition/images/\"+ test_df[\"image_id\"]\n",
    "\n",
    "train_df.head()"
   ]
  },
  {
   "cell_type": "code",
   "execution_count": 3,
   "id": "1f516a15",
   "metadata": {
    "execution": {
     "iopub.execute_input": "2024-03-18T19:17:34.386934Z",
     "iopub.status.busy": "2024-03-18T19:17:34.386643Z",
     "iopub.status.idle": "2024-03-18T19:17:34.396278Z",
     "shell.execute_reply": "2024-03-18T19:17:34.395439Z"
    },
    "papermill": {
     "duration": 0.017665,
     "end_time": "2024-03-18T19:17:34.398105",
     "exception": false,
     "start_time": "2024-03-18T19:17:34.380440",
     "status": "completed"
    },
    "tags": []
   },
   "outputs": [],
   "source": [
    "imageNetMean = [0.485, 0.456, 0.406]\n",
    "imageNetStd = [0.229, 0.224, 0.225]\n",
    "\n",
    "# Define the Dataset class\n",
    "class CustomDataset(Dataset):\n",
    "    def __init__(self,  df, image_col, label_col, resolution, mode):\n",
    "        self.images = df[image_col].tolist()\n",
    "        self.labels = None if label_col not in df.columns else df[label_col].values.tolist()\n",
    "        self.resolution = resolution\n",
    "        \n",
    "        if mode == \"train\":\n",
    "            self.aug =  Compose([\n",
    "                Resize((resolution, resolution)),\n",
    "                RandomHorizontalFlip(p=0.5),\n",
    "                ToImageTensor(),\n",
    "                ConvertImageDtype(),\n",
    "                Normalize(mean=imageNetMean, std=imageNetStd)\n",
    "            ])\n",
    "        else:\n",
    "            self.aug =  Compose([\n",
    "                Resize((resolution, resolution)),\n",
    "                PILToTensor(),\n",
    "                ToImageTensor(),\n",
    "                ConvertImageDtype(),\n",
    "                Normalize(mean=imageNetMean, std=imageNetStd)\n",
    "            ])\n",
    "            \n",
    "\n",
    "    def __len__(self):\n",
    "        return len(self.images)\n",
    "\n",
    "    def __getitem__(self, idx):\n",
    "        x = Image.open(self.images[idx])\n",
    "        x = self.aug(x)\n",
    "        res = {\"input\": x}\n",
    "        if self.labels is not None:\n",
    "            res[\"target\"] = torch.tensor(lbl_map[self.labels[idx]]).long()\n",
    "            \n",
    "        return res"
   ]
  },
  {
   "cell_type": "code",
   "execution_count": 4,
   "id": "b0282646",
   "metadata": {
    "execution": {
     "iopub.execute_input": "2024-03-18T19:17:34.409474Z",
     "iopub.status.busy": "2024-03-18T19:17:34.409207Z",
     "iopub.status.idle": "2024-03-18T19:17:34.417458Z",
     "shell.execute_reply": "2024-03-18T19:17:34.416660Z"
    },
    "papermill": {
     "duration": 0.016202,
     "end_time": "2024-03-18T19:17:34.419446",
     "exception": false,
     "start_time": "2024-03-18T19:17:34.403244",
     "status": "completed"
    },
    "tags": []
   },
   "outputs": [],
   "source": [
    "def cutmix(images, labels, alpha=1.0):\n",
    "    bs, c, w, h = images.shape\n",
    "    idxs = torch.randperm(bs)\n",
    "    # Generate lambda and indexes\n",
    "    lam = Beta(alpha, alpha).sample()\n",
    "    r_x = Uniform(0, w).sample().int()\n",
    "    r_y = Uniform(0, h).sample().int()\n",
    "    lam_ratio = torch.sqrt(1. - lam)\n",
    "    r_w = (w * lam_ratio).int()\n",
    "    r_h = (h * lam_ratio).int()\n",
    "    # Calculate bounding box\n",
    "    x1 = torch.clamp(r_x - r_w // 2, min=0)\n",
    "    x2 = torch.clamp(r_x + r_w // 2, max=w)\n",
    "    y1 = torch.clamp(r_y - r_h // 2, min=0)\n",
    "    y2 = torch.clamp(r_y + r_h // 2, max=h)\n",
    "    # Apply based on permutation\n",
    "    images[:, :, x1:x2, y1:y2] = images[idxs, :, x1:x2, y1:y2]\n",
    "    # Update labels\n",
    "    labels_one_hot = torch.nn.functional.one_hot(labels, num_classes=6)\n",
    "    label_ratio = 1 - (x2-x1)*(y2-y1) / (w * h)\n",
    "    labels = labels_one_hot * label_ratio + labels_one_hot[idxs] * (1 - label_ratio)\n",
    "    \n",
    "    return images, labels"
   ]
  },
  {
   "cell_type": "code",
   "execution_count": 5,
   "id": "ed2a14c9",
   "metadata": {
    "execution": {
     "iopub.execute_input": "2024-03-18T19:17:34.431483Z",
     "iopub.status.busy": "2024-03-18T19:17:34.430741Z",
     "iopub.status.idle": "2024-03-18T19:17:34.434949Z",
     "shell.execute_reply": "2024-03-18T19:17:34.434303Z"
    },
    "papermill": {
     "duration": 0.011928,
     "end_time": "2024-03-18T19:17:34.436711",
     "exception": false,
     "start_time": "2024-03-18T19:17:34.424783",
     "status": "completed"
    },
    "tags": []
   },
   "outputs": [],
   "source": [
    "# import matplotlib.pyplot as plt\n",
    "# N=4\n",
    "\n",
    "# batch = next(iter(train_dl))\n",
    "# imgs, labels = cutmix(batch['input'], batch['target'])\n",
    "\n",
    "# plt.figure(figsize=(10,10))\n",
    "# for i in range(N):\n",
    "#     plt.subplot( 4, 1, i+1)\n",
    "    \n",
    "#     img = imgs[i]\n",
    "#     title = labels[i]\n",
    "#     img = img.permute(1,2,0)\n",
    "#     img *= np.array([0.229, 0.224, 0.225])\n",
    "#     img += np.array([0.485, 0.456, 0.406])\n",
    "#     plt.imshow(img)\n",
    "#     plt.title(title)\n",
    "\n",
    "# plt.tight_layout()"
   ]
  },
  {
   "cell_type": "code",
   "execution_count": 6,
   "id": "bf6fe144",
   "metadata": {
    "execution": {
     "iopub.execute_input": "2024-03-18T19:17:34.448317Z",
     "iopub.status.busy": "2024-03-18T19:17:34.448081Z",
     "iopub.status.idle": "2024-03-18T19:17:34.464964Z",
     "shell.execute_reply": "2024-03-18T19:17:34.464121Z"
    },
    "papermill": {
     "duration": 0.024854,
     "end_time": "2024-03-18T19:17:34.466764",
     "exception": false,
     "start_time": "2024-03-18T19:17:34.441910",
     "status": "completed"
    },
    "tags": []
   },
   "outputs": [],
   "source": [
    "# Code for GeM from: https://amaarora.github.io/posts/2020-08-30-gempool.html\n",
    "class GeM(nn.Module):\n",
    "    def __init__(self, p=3, eps=1e-6):\n",
    "        super(GeM,self).__init__()\n",
    "        self.p = nn.Parameter(torch.ones(1)*p)\n",
    "        self.eps = eps\n",
    "\n",
    "    def forward(self, x):\n",
    "        return self.gem(x, p=self.p, eps=self.eps)\n",
    "    \n",
    "    # apply avg pool to x^p for the inputs, the kernel size is the size of the feature map\n",
    "    # so it is basically AdaptiveAvgPool(1), we clamp values to be at least eps and\n",
    "    # the pooling output is raised to the power of p as in the lecture\n",
    "    # p is a trainable parameter\n",
    "    def gem(self, x, p=3, eps=1e-6):\n",
    "        return nn.functional.avg_pool2d(x.clamp(min=eps).pow(p), (x.size(-2), x.size(-1))).pow(1./p)\n",
    "#         x = x.clamp(min=eps).pow(p)\n",
    "#         return nn.functional.adaptive_avg_pool2d(x, 1).pow(1./p)\n",
    "\n",
    "class Head(nn.Module):\n",
    "    def __init__(self, layers, activation=nn.ReLU):\n",
    "        super().__init__()\n",
    "        my_layers = []\n",
    "        \n",
    "        for i in range(len(layers)-1):\n",
    "            my_layers.append(nn.Linear(layers[i], layers[i+1]))\n",
    "            if i< len(layers)-2:\n",
    "                my_layers.append(activation())\n",
    "\n",
    "        self.layers = nn.ModuleList(my_layers)\n",
    "        \n",
    "    def forward(self, x):\n",
    "        for layer in self.layers:\n",
    "            x = layer(x)\n",
    "        return x\n",
    "\n",
    "\n",
    "class CustomModel(nn.Module):\n",
    "    def __init__(self, backbone, num_outputs, hidden_layers=None, tim_head=False, dropout_p=0):\n",
    "        super().__init__()\n",
    "        \n",
    "        self.backbone_name = backbone\n",
    "        self.tim_head = tim_head\n",
    "        \n",
    "        args = dict(\n",
    "            model_name=self.backbone_name,\n",
    "            pretrained=True,\n",
    "            drop_rate=0,\n",
    "            in_chans=3,\n",
    "        )\n",
    "        if not tim_head:\n",
    "            args = {\"global_pool\": \"\", \"num_classes\": 0, **args}\n",
    "        else:\n",
    "            args = {\"num_classes\": num_outputs, **args}\n",
    "            \n",
    "        self.backbone = timm.create_model(**args)\n",
    "        \n",
    "#         self.pool = nn.AdaptiveAvgPool2d(1)\n",
    "        self.pool = GeM()\n",
    "        self.dropout = nn.Dropout(dropout_p)\n",
    "        self.num_outputs = num_outputs\n",
    "\n",
    "        hidden_layers = hidden_layers if hidden_layers else []\n",
    "        hidden_layers = [self.backbone.num_features] + hidden_layers + [num_outputs]\n",
    "        self.head = Head(hidden_layers)\n",
    "    \n",
    "    def forward(self, x, print_shapes=False, apply_softmax=False):\n",
    "        x = self.backbone(x)\n",
    "        \n",
    "        if print_shapes:\n",
    "            print(\"Backbone output shape\", x.shape)\n",
    "        \n",
    "        if not self.tim_head:\n",
    "            # Problem between pooling output and head with swinv2 model\n",
    "            if self.backbone_name.startswith(\"swinv2\"):\n",
    "                x = x.permute(0,3,1,2)\n",
    "            \n",
    "            x = self.pool(x)\n",
    "            \n",
    "            if print_shapes:\n",
    "                print(\"Pool output shape\", x.shape)\n",
    "            \n",
    "            x = self.dropout(x)\n",
    "            \n",
    "            x = x[:, :, 0 , 0]\n",
    "            if print_shapes:\n",
    "                print(\"Pool output flattened\", x.shape)\n",
    "\n",
    "            x = self.head(x)\n",
    "            if print_shapes:\n",
    "                print(\"Head output shape\", x.shape)\n",
    "            \n",
    "        if apply_softmax:\n",
    "            x = softmax(x, 1)\n",
    "            \n",
    "        # reduce single dimension\n",
    "        if self.num_outputs == 1:\n",
    "            x = x.view(-1)\n",
    "            \n",
    "        return x\n",
    "\n",
    "\n"
   ]
  },
  {
   "cell_type": "markdown",
   "id": "39d14d0f",
   "metadata": {
    "papermill": {
     "duration": 0.005006,
     "end_time": "2024-03-18T19:17:34.476916",
     "exception": false,
     "start_time": "2024-03-18T19:17:34.471910",
     "status": "completed"
    },
    "tags": []
   },
   "source": [
    "## Training loop"
   ]
  },
  {
   "cell_type": "code",
   "execution_count": 7,
   "id": "90730720",
   "metadata": {
    "execution": {
     "iopub.execute_input": "2024-03-18T19:17:34.488481Z",
     "iopub.status.busy": "2024-03-18T19:17:34.488210Z",
     "iopub.status.idle": "2024-03-18T19:17:34.508765Z",
     "shell.execute_reply": "2024-03-18T19:17:34.508137Z"
    },
    "papermill": {
     "duration": 0.029073,
     "end_time": "2024-03-18T19:17:34.511101",
     "exception": false,
     "start_time": "2024-03-18T19:17:34.482028",
     "status": "completed"
    },
    "tags": []
   },
   "outputs": [],
   "source": [
    "def accuracy(x, y):\n",
    "    return accuracy_score(x, np.array(y).argmax(axis=1))\n",
    "\n",
    "\n",
    "def train_loop(train_dl, model, loss_fn, optimizer, scheduler, device, scaler, cutmix_p=0, log_every=1):\n",
    "    losses = []\n",
    "    lr_values = []\n",
    "    size = len(train_dl)\n",
    "    \n",
    "    # Set the model to training mode - important for batch normalization and dropout layers\n",
    "    model.train()\n",
    "     \n",
    "    pbar = tqdm(train_dl)\n",
    "    for batch_idx, batch_dict in enumerate(pbar):\n",
    "        if random.random() < cutmix_p:\n",
    "            batch_dict[\"input\"], batch_dict[\"target\"] = cutmix(batch_dict[\"input\"], batch_dict[\"target\"])  \n",
    "        else:\n",
    "            batch_dict[\"target\"] = batch_dict[\"target\"].long()\n",
    "        \n",
    "        x = batch_dict[\"input\"]\n",
    "        x = x.to(device)  \n",
    "        y = batch_dict[\"target\"].to(device)\n",
    "        \n",
    "        with autocast(device_type='cuda', dtype=torch.float16):\n",
    "            # Compute prediction and loss\n",
    "            pred = model(x)\n",
    "            loss = loss_fn(pred, y)\n",
    "\n",
    "        # Backpropagation\n",
    "        scaler.scale(loss).backward()\n",
    "        scaler.step(optimizer)\n",
    "        scaler.update()\n",
    "        \n",
    "        scheduler.step()\n",
    "        optimizer.zero_grad()\n",
    "        \n",
    "        if batch_idx % log_every == 0:\n",
    "            losses.append(loss.detach().cpu().item())\n",
    "            lr_values.append(scheduler.get_lr()[0])\n",
    "        \n",
    "        loss, current = loss.item(), (batch_idx + 1)\n",
    "        pbar.set_description(f\"loss: {loss:>7f}  [{current:>5d}/{size:>5d}]\")\n",
    "            \n",
    "    return losses, lr_values\n",
    "\n",
    "\n",
    "def inference_loop(model, dataloader, device, tta=False, **predict_kwargs):\n",
    "    model.to(device)\n",
    "    predictions = []\n",
    "    labels = []\n",
    "    \n",
    "    # Set the model to evaluation mode - important for batch normalization and dropout layers\n",
    "    model.eval()\n",
    "    \n",
    "    with torch.no_grad():\n",
    "        for batch_dict in tqdm(dataloader):\n",
    "            x = batch_dict[\"input\"]\n",
    "            x = x.to(device)\n",
    "            y = batch_dict.get(\"target\")\n",
    "            \n",
    "            with autocast(device_type='cuda', dtype=torch.float16):\n",
    "                pred = model(x, **predict_kwargs)\n",
    "                #manual test time augmentation - hflip and mean\n",
    "                if tta:\n",
    "                    # Flip the image horizontally\n",
    "                    x_flip = torch.flip(x, dims=[3])\n",
    "                    pred_flip = model(x_flip, **predict_kwargs)\n",
    "                    # Calculate mean\n",
    "                    pred = torch.mean(torch.stack([pred, pred_flip]), dim=0)\n",
    "            # we move predictions to cpu, in case they are stored on GPU\n",
    "            predictions.extend(pred.cpu().tolist())\n",
    "            \n",
    "            if y is not None:\n",
    "                labels.extend(y.cpu().tolist())\n",
    "                \n",
    "    return predictions, labels\n",
    "\n",
    "\n",
    "def validation_loop(val_dl, model, val_metrics, device, tta=False):\n",
    "    predictions, labels = inference_loop(model, val_dl, device, tta=tta, apply_softmax=True)\n",
    "    scores = {metric.__name__: metric(labels, predictions) for metric in val_metrics}\n",
    "    return scores\n",
    "\n",
    "\n",
    "def predict(model, test_dl, device, apply_softmax=True, tta=False):\n",
    "    model.to(device)\n",
    "    predictions, _ = inference_loop(model, test_dl, device, tta=tta, apply_softmax=apply_softmax)\n",
    "    return predictions\n",
    "\n",
    "\n",
    "def train(model, train_dl, val_dl, loss, optimizer, scheduler, epochs, val_metrics, device, scaler,\n",
    "          neptune, cutmix_p=0, val_skip=False, tta=False):\n",
    "    scores = []\n",
    "    losses = []\n",
    "    lr_rates = []\n",
    "    \n",
    "    model.to(device)\n",
    "    \n",
    "    for epoch in range(epochs):\n",
    "        print(f\"Epoch {epoch+1}/{epochs}\\n-------------------------------\")\n",
    "        epoch_losses, epoch_lr_rates = train_loop(train_dl, model, loss, optimizer, scheduler, device, scaler, cutmix_p)\n",
    "        #Validation might be skipped\n",
    "        if not val_skip:\n",
    "            epoch_scores = validation_loop(val_dl, model, val_metrics, device, tta)\n",
    "            print(epoch_scores)\n",
    "            scores.append(epoch_scores)\n",
    "            neptune[\"train/scores\"].append(epoch_scores)\n",
    "        losses.extend(epoch_losses)\n",
    "        lr_rates.extend(epoch_lr_rates)\n",
    "        neptune[\"train/losses\"].extend(epoch_losses)\n",
    "        neptune[\"train/lr_rates\"].extend(epoch_lr_rates)\n",
    "    print(\"Done!\")\n",
    "    return model, scores, losses, lr_rates"
   ]
  },
  {
   "cell_type": "code",
   "execution_count": 8,
   "id": "971e75b2",
   "metadata": {
    "execution": {
     "iopub.execute_input": "2024-03-18T19:17:34.523138Z",
     "iopub.status.busy": "2024-03-18T19:17:34.522819Z",
     "iopub.status.idle": "2024-03-18T19:17:34.526584Z",
     "shell.execute_reply": "2024-03-18T19:17:34.525749Z"
    },
    "papermill": {
     "duration": 0.011635,
     "end_time": "2024-03-18T19:17:34.528439",
     "exception": false,
     "start_time": "2024-03-18T19:17:34.516804",
     "status": "completed"
    },
    "tags": []
   },
   "outputs": [],
   "source": [
    "# backbone = \"tf_efficientnetv2_m.in21k\"\n",
    "# backbone = \"tf_efficientnetv2_b3.in1k\"\n",
    "# backbone = \"tf_efficientnetv2_m.in21k_ft_in1k\"\n",
    "# backbone = \"swinv2_tiny_window16_256.ms_in1k\"\n",
    "# backbone = \"tf_efficientnetv2_s.in21k\""
   ]
  },
  {
   "cell_type": "code",
   "execution_count": 9,
   "id": "cd3e37f3",
   "metadata": {
    "execution": {
     "iopub.execute_input": "2024-03-18T19:17:34.540003Z",
     "iopub.status.busy": "2024-03-18T19:17:34.539753Z",
     "iopub.status.idle": "2024-03-18T20:04:22.582184Z",
     "shell.execute_reply": "2024-03-18T20:04:22.581164Z"
    },
    "papermill": {
     "duration": 2808.050915,
     "end_time": "2024-03-18T20:04:22.584482",
     "exception": false,
     "start_time": "2024-03-18T19:17:34.533567",
     "status": "completed"
    },
    "tags": []
   },
   "outputs": [
    {
     "name": "stderr",
     "output_type": "stream",
     "text": [
      "[neptune] [warning] NeptuneWarning: The following monitoring options are disabled by default in interactive sessions: 'capture_stdout', 'capture_stderr', 'capture_traceback', and 'capture_hardware_metrics'. To enable them, set each parameter to 'True' when initializing the run. The monitoring will continue until you call run.stop() or the kernel stops. Also note: Your source files can only be tracked if you pass the path(s) to the 'source_code' argument. For help, see the Neptune docs: https://docs.neptune.ai/logging/source_code/\n"
     ]
    },
    {
     "name": "stdout",
     "output_type": "stream",
     "text": [
      "[neptune] [info   ] Neptune initialized. Open in the app: https://app.neptune.ai/k4ktus/PDL-cv-competition/e/PDLCVCOM-41\n"
     ]
    },
    {
     "name": "stderr",
     "output_type": "stream",
     "text": [
      "[neptune] [warning] NeptuneUnsupportedType: You're attempting to log a type that is not directly supported by Neptune (<class 'list'>).\n",
      "        Convert the value to a supported type, such as a string or float, or use stringify_unsupported(obj)\n",
      "        for dictionaries or collections that contain unsupported values.\n",
      "        For more, see https://docs.neptune.ai/help/value_of_unsupported_type\n",
      "/opt/conda/lib/python3.10/site-packages/torch/functional.py:504: UserWarning: torch.meshgrid: in an upcoming release, it will be required to pass the indexing argument. (Triggered internally at /usr/local/src/pytorch/aten/src/ATen/native/TensorShape.cpp:3483.)\n",
      "  return _VF.meshgrid(tensors, **kwargs)  # type: ignore[attr-defined]\n"
     ]
    },
    {
     "data": {
      "application/vnd.jupyter.widget-view+json": {
       "model_id": "86f1c68b1cf8443b90872cde7bb13bc0",
       "version_major": 2,
       "version_minor": 0
      },
      "text/plain": [
       "Downloading model.safetensors:   0%|          | 0.00/792M [00:00<?, ?B/s]"
      ]
     },
     "metadata": {},
     "output_type": "display_data"
    },
    {
     "name": "stdout",
     "output_type": "stream",
     "text": [
      "Epoch 1/5\n",
      "-------------------------------\n"
     ]
    },
    {
     "name": "stderr",
     "output_type": "stream",
     "text": [
      "  0%|          | 0/405 [00:00<?, ?it/s]/opt/conda/lib/python3.10/site-packages/torch/optim/lr_scheduler.py:139: UserWarning: Detected call of `lr_scheduler.step()` before `optimizer.step()`. In PyTorch 1.1.0 and later, you should call them in the opposite order: `optimizer.step()` before `lr_scheduler.step()`.  Failure to do this will result in PyTorch skipping the first value of the learning rate schedule. See more details at https://pytorch.org/docs/stable/optim.html#how-to-adjust-learning-rate\n",
      "  warnings.warn(\"Detected call of `lr_scheduler.step()` before `optimizer.step()`. \"\n",
      "/opt/conda/lib/python3.10/site-packages/torch/optim/lr_scheduler.py:265: UserWarning: To get the last learning rate computed by the scheduler, please use `get_last_lr()`.\n",
      "  warnings.warn(\"To get the last learning rate computed by the scheduler, \"\n",
      "loss: 0.918269  [  405/  405]: 100%|██████████| 405/405 [10:02<00:00,  1.49s/it]\n"
     ]
    },
    {
     "name": "stdout",
     "output_type": "stream",
     "text": [
      "Epoch 2/5\n",
      "-------------------------------\n"
     ]
    },
    {
     "name": "stderr",
     "output_type": "stream",
     "text": [
      "loss: 1.360596  [  405/  405]: 100%|██████████| 405/405 [09:09<00:00,  1.36s/it]\n"
     ]
    },
    {
     "name": "stdout",
     "output_type": "stream",
     "text": [
      "Epoch 3/5\n",
      "-------------------------------\n"
     ]
    },
    {
     "name": "stderr",
     "output_type": "stream",
     "text": [
      "loss: 1.485840  [  405/  405]: 100%|██████████| 405/405 [09:09<00:00,  1.36s/it]\n"
     ]
    },
    {
     "name": "stdout",
     "output_type": "stream",
     "text": [
      "Epoch 4/5\n",
      "-------------------------------\n"
     ]
    },
    {
     "name": "stderr",
     "output_type": "stream",
     "text": [
      "loss: 0.002600  [  405/  405]: 100%|██████████| 405/405 [09:08<00:00,  1.36s/it]\n"
     ]
    },
    {
     "name": "stdout",
     "output_type": "stream",
     "text": [
      "Epoch 5/5\n",
      "-------------------------------\n"
     ]
    },
    {
     "name": "stderr",
     "output_type": "stream",
     "text": [
      "loss: 0.002914  [  405/  405]: 100%|██████████| 405/405 [09:08<00:00,  1.35s/it]"
     ]
    },
    {
     "name": "stdout",
     "output_type": "stream",
     "text": [
      "Done!\n",
      "[neptune] [info   ] Shutting down background jobs, please wait a moment...\n",
      "[neptune] [info   ] Done!\n",
      "[neptune] [info   ] Waiting for the remaining 10 operations to synchronize with Neptune. Do not kill this process.\n",
      "[neptune] [info   ] All 10 operations synced, thanks for waiting!\n",
      "[neptune] [info   ] Explore the metadata in the Neptune app: https://app.neptune.ai/k4ktus/PDL-cv-competition/e/PDLCVCOM-41/metadata\n"
     ]
    },
    {
     "name": "stderr",
     "output_type": "stream",
     "text": [
      "\n"
     ]
    },
    {
     "data": {
      "image/png": "[encoded data removed]",
      "text/plain": [
       "<Figure size 640x480 with 1 Axes>"
      ]
     },
     "metadata": {},
     "output_type": "display_data"
    },
    {
     "data": {
      "image/png": "[encoded data removed]",
      "text/plain": [
       "<Figure size 640x480 with 1 Axes>"
      ]
     },
     "metadata": {},
     "output_type": "display_data"
    }
   ],
   "source": [
    "# Specify all hyper-parameters\n",
    "# backbone = \"swinv2_base_window16_256.ms_in1k\"\n",
    "backbone = \"swinv2_large_window12to16_192to256.ms_in22k_ft_in1k\"\n",
    "num_classes = 6\n",
    "hidden_layers = None\n",
    "tim_head = False\n",
    "dropout_p = 0.2\n",
    "image_size = 256\n",
    "\n",
    "device = \"cuda\"\n",
    "learning_rate = 1e-4\n",
    "batch_size = 16\n",
    "epochs = 5\n",
    "warmup_epochs = 1\n",
    "\n",
    "sample_size = None\n",
    "val_skip = True\n",
    "full_data = True\n",
    "cutmix_p = 0.5\n",
    "tta_flip = True\n",
    "\n",
    "#Setup neptune logging\n",
    "from kaggle_secrets import UserSecretsClient\n",
    "user_secrets = UserSecretsClient()\n",
    "run = neptune.init_run(\n",
    "    project=user_secrets.get_secret(\"neptune_cv_project\"),\n",
    "    api_token=user_secrets.get_secret(\"neptune_api_token\")\n",
    ")\n",
    "\n",
    "params = {\n",
    "    \"backbone\": backbone,\n",
    "    \"n_classes\": num_classes,\n",
    "    \"tim_head\": tim_head,\n",
    "    \"dropout_p\": dropout_p,\n",
    "    \"pool\": \"GeM\",\n",
    "    \"image_size\": image_size,  \n",
    "    \"lr\": learning_rate,\n",
    "    \"batch_size\": batch_size,\n",
    "    \"epochs\": epochs,\n",
    "    \"warmup_epochs\": warmup_epochs,\n",
    "    \"train_test_split\": 1,\n",
    "    \"train_img_aug\": [\"hlfip0.5\"],\n",
    "    \"train_batch_aug\": [f\"cutmix{cutmix_p}\"],\n",
    "    \"inference_aug\": []\n",
    "}\n",
    "run[\"parameters\"] = params\n",
    "\n",
    "val_metrics = [accuracy, log_loss]\n",
    "loss = nn.CrossEntropyLoss()\n",
    "model = CustomModel(backbone, num_classes, hidden_layers, tim_head=tim_head)\n",
    "optimizer = torch.optim.AdamW(model.parameters(), lr=learning_rate)\n",
    "\n",
    "# Creates a GradScaler once at the beginning of training.\n",
    "scaler = torch.cuda.amp.GradScaler()\n",
    "\n",
    "act_train = train_df\n",
    "act_val = train_df.query(\"fold==0\")\n",
    "if not full_data:\n",
    "    act_train = train_df.query(\"fold!=0\")\n",
    "    act_val = train_df.query(\"fold==0\")\n",
    "\n",
    "if sample_size:\n",
    "    act_train = act_train.head(sample_size)\n",
    "    act_val = act_val.head(sample_size)\n",
    "\n",
    "# Get datasets and data loaders\n",
    "train_ds = CustomDataset(act_train, \"image\", \"label\", image_size, \"train\")\n",
    "train_dl = DataLoader(train_ds, batch_size=batch_size, shuffle=True)\n",
    "\n",
    "val_ds = CustomDataset(act_val, \"image\", \"label\", image_size, \"test\")\n",
    "val_dl = DataLoader(val_ds, batch_size=batch_size, shuffle=False)\n",
    "\n",
    "# Get scheduler\n",
    "scheduler = get_cosine_schedule_with_warmup(\n",
    "    optimizer, num_warmup_steps=warmup_epochs * len(train_dl), num_training_steps=epochs * len(train_dl)\n",
    ")\n",
    "\n",
    "# Train model\n",
    "model, val_scores, train_losses, lr_rates = train(\n",
    "    model, train_dl, val_dl, loss, optimizer, scheduler, epochs, val_metrics, device, scaler,\n",
    "    neptune=run, cutmix_p=cutmix_p, val_skip=val_skip, tta=tta_flip\n",
    ")\n",
    "\n",
    "run.stop()\n",
    "\n",
    "# Save model weights\n",
    "# torch.save(model.state_dict(), 'model_weights.pth')\n",
    "\n",
    "# Plot Learning Rates\n",
    "pd.DataFrame({\"Learning rate\":lr_rates}).plot(xlabel=\"step\", ylabel=\"lr\", style=\"-\", title=\"Train\")\n",
    "\n",
    "# Plot Train Losses\n",
    "pd.DataFrame({\"train loss\":train_losses}).plot(xlabel=\"step\", ylabel=\"loss\", style=\"-\", title=\"Train\")\n",
    "\n",
    "if not val_skip:\n",
    "    # Plot Validation Metrics\n",
    "    pd.DataFrame(val_scores).plot(xlabel=\"epoch\", ylabel=\"score\", style=\"o-\", title=\"Validation\")\n",
    "\n",
    "    # Show validation metrics\n",
    "    val_scores_df = pd.DataFrame(val_scores)\n",
    "    val_scores_df.index.name = \"epoch\"\n",
    "    val_scores_df"
   ]
  },
  {
   "cell_type": "markdown",
   "id": "cf600dec",
   "metadata": {
    "papermill": {
     "duration": 0.321418,
     "end_time": "2024-03-18T20:04:23.235468",
     "exception": false,
     "start_time": "2024-03-18T20:04:22.914050",
     "status": "completed"
    },
    "tags": []
   },
   "source": [
    "## Submission\n",
    "\n",
    "We create the submission file along with the file containing raw probabilities. The file with predicted probabilities can be used to ensemble multiple pipelines."
   ]
  },
  {
   "cell_type": "code",
   "execution_count": 10,
   "id": "4666bf4b",
   "metadata": {
    "execution": {
     "iopub.execute_input": "2024-03-18T20:04:23.934501Z",
     "iopub.status.busy": "2024-03-18T20:04:23.933655Z",
     "iopub.status.idle": "2024-03-18T20:06:46.679043Z",
     "shell.execute_reply": "2024-03-18T20:06:46.678149Z"
    },
    "papermill": {
     "duration": 143.126656,
     "end_time": "2024-03-18T20:06:46.681024",
     "exception": false,
     "start_time": "2024-03-18T20:04:23.554368",
     "status": "completed"
    },
    "tags": []
   },
   "outputs": [
    {
     "name": "stderr",
     "output_type": "stream",
     "text": [
      "100%|██████████| 125/125 [02:22<00:00,  1.14s/it]"
     ]
    },
    {
     "name": "stdout",
     "output_type": "stream",
     "text": [
      "swin_sub_full.csv\n",
      "swin_proba_full.csv\n"
     ]
    },
    {
     "name": "stderr",
     "output_type": "stream",
     "text": [
      "\n"
     ]
    },
    {
     "data": {
      "text/html": [
       "<div>\n",
       "<style scoped>\n",
       "    .dataframe tbody tr th:only-of-type {\n",
       "        vertical-align: middle;\n",
       "    }\n",
       "\n",
       "    .dataframe tbody tr th {\n",
       "        vertical-align: top;\n",
       "    }\n",
       "\n",
       "    .dataframe thead th {\n",
       "        text-align: right;\n",
       "    }\n",
       "</style>\n",
       "<table border=\"1\" class=\"dataframe\">\n",
       "  <thead>\n",
       "    <tr style=\"text-align: right;\">\n",
       "      <th></th>\n",
       "      <th>image_id</th>\n",
       "      <th>Andy-Warhol</th>\n",
       "      <th>Claude-Monet</th>\n",
       "      <th>Pablo-Picasso</th>\n",
       "      <th>Rembrandt-Harmenszoon-van-Rijn</th>\n",
       "      <th>Salvador-Dali</th>\n",
       "      <th>Vincent-van-Gogh</th>\n",
       "    </tr>\n",
       "  </thead>\n",
       "  <tbody>\n",
       "    <tr>\n",
       "      <th>0</th>\n",
       "      <td>6188.png</td>\n",
       "      <td>0.000092</td>\n",
       "      <td>0.000275</td>\n",
       "      <td>0.000163</td>\n",
       "      <td>0.998892</td>\n",
       "      <td>0.000508</td>\n",
       "      <td>0.000070</td>\n",
       "    </tr>\n",
       "    <tr>\n",
       "      <th>1</th>\n",
       "      <td>4895.png</td>\n",
       "      <td>0.000257</td>\n",
       "      <td>0.000448</td>\n",
       "      <td>0.996040</td>\n",
       "      <td>0.000932</td>\n",
       "      <td>0.000523</td>\n",
       "      <td>0.001801</td>\n",
       "    </tr>\n",
       "    <tr>\n",
       "      <th>2</th>\n",
       "      <td>7716.png</td>\n",
       "      <td>0.000151</td>\n",
       "      <td>0.002605</td>\n",
       "      <td>0.000173</td>\n",
       "      <td>0.000150</td>\n",
       "      <td>0.000206</td>\n",
       "      <td>0.996715</td>\n",
       "    </tr>\n",
       "    <tr>\n",
       "      <th>3</th>\n",
       "      <td>4180.png</td>\n",
       "      <td>0.000309</td>\n",
       "      <td>0.998657</td>\n",
       "      <td>0.000168</td>\n",
       "      <td>0.000333</td>\n",
       "      <td>0.000305</td>\n",
       "      <td>0.000229</td>\n",
       "    </tr>\n",
       "    <tr>\n",
       "      <th>4</th>\n",
       "      <td>5261.png</td>\n",
       "      <td>0.999281</td>\n",
       "      <td>0.000207</td>\n",
       "      <td>0.000092</td>\n",
       "      <td>0.000164</td>\n",
       "      <td>0.000154</td>\n",
       "      <td>0.000102</td>\n",
       "    </tr>\n",
       "  </tbody>\n",
       "</table>\n",
       "</div>"
      ],
      "text/plain": [
       "   image_id  Andy-Warhol  Claude-Monet  Pablo-Picasso  \\\n",
       "0  6188.png     0.000092      0.000275       0.000163   \n",
       "1  4895.png     0.000257      0.000448       0.996040   \n",
       "2  7716.png     0.000151      0.002605       0.000173   \n",
       "3  4180.png     0.000309      0.998657       0.000168   \n",
       "4  5261.png     0.999281      0.000207       0.000092   \n",
       "\n",
       "   Rembrandt-Harmenszoon-van-Rijn  Salvador-Dali  Vincent-van-Gogh  \n",
       "0                        0.998892       0.000508          0.000070  \n",
       "1                        0.000932       0.000523          0.001801  \n",
       "2                        0.000150       0.000206          0.996715  \n",
       "3                        0.000333       0.000305          0.000229  \n",
       "4                        0.000164       0.000154          0.000102  "
      ]
     },
     "metadata": {},
     "output_type": "display_data"
    },
    {
     "data": {
      "text/html": [
       "<div>\n",
       "<style scoped>\n",
       "    .dataframe tbody tr th:only-of-type {\n",
       "        vertical-align: middle;\n",
       "    }\n",
       "\n",
       "    .dataframe tbody tr th {\n",
       "        vertical-align: top;\n",
       "    }\n",
       "\n",
       "    .dataframe thead th {\n",
       "        text-align: right;\n",
       "    }\n",
       "</style>\n",
       "<table border=\"1\" class=\"dataframe\">\n",
       "  <thead>\n",
       "    <tr style=\"text-align: right;\">\n",
       "      <th></th>\n",
       "      <th>image_id</th>\n",
       "      <th>label</th>\n",
       "    </tr>\n",
       "  </thead>\n",
       "  <tbody>\n",
       "    <tr>\n",
       "      <th>0</th>\n",
       "      <td>6188.png</td>\n",
       "      <td>Rembrandt-Harmenszoon-van-Rijn</td>\n",
       "    </tr>\n",
       "    <tr>\n",
       "      <th>1</th>\n",
       "      <td>4895.png</td>\n",
       "      <td>Pablo-Picasso</td>\n",
       "    </tr>\n",
       "    <tr>\n",
       "      <th>2</th>\n",
       "      <td>7716.png</td>\n",
       "      <td>Vincent-van-Gogh</td>\n",
       "    </tr>\n",
       "    <tr>\n",
       "      <th>3</th>\n",
       "      <td>4180.png</td>\n",
       "      <td>Claude-Monet</td>\n",
       "    </tr>\n",
       "    <tr>\n",
       "      <th>4</th>\n",
       "      <td>5261.png</td>\n",
       "      <td>Andy-Warhol</td>\n",
       "    </tr>\n",
       "  </tbody>\n",
       "</table>\n",
       "</div>"
      ],
      "text/plain": [
       "   image_id                           label\n",
       "0  6188.png  Rembrandt-Harmenszoon-van-Rijn\n",
       "1  4895.png                   Pablo-Picasso\n",
       "2  7716.png                Vincent-van-Gogh\n",
       "3  4180.png                    Claude-Monet\n",
       "4  5261.png                     Andy-Warhol"
      ]
     },
     "execution_count": 10,
     "metadata": {},
     "output_type": "execute_result"
    }
   ],
   "source": [
    "inverse_lbl_map = {v:k for k,v in lbl_map.items()}\n",
    "# Get test dataset and data loader\n",
    "test_ds = CustomDataset(test_df, \"image\", \"label\", image_size, \"test\")\n",
    "test_dl = DataLoader(test_ds, batch_size=batch_size, shuffle=False)\n",
    "\n",
    "# Set model to inference mode\n",
    "model.eval()\n",
    "\n",
    "# Predict on test data\n",
    "preds = predict(model, test_dl, \"cuda\", tta=tta_flip)\n",
    "preds = np.array(preds)\n",
    "\n",
    "sub = test_df[[\"image_id\"]].copy()\n",
    "sub[\"label\"] = preds.argmax(axis=1)\n",
    "\n",
    "sub[\"label\"] = sub[\"label\"].map(inverse_lbl_map)\n",
    "\n",
    "path = f\"swin_sub_full.csv\"\n",
    "print(path)\n",
    "sub.to_csv(path, index=False)\n",
    "\n",
    "path = f\"swin_proba_full.csv\"\n",
    "print(path)\n",
    "proba = pd.DataFrame(preds, columns = lbl_map.keys())\n",
    "proba = pd.concat([test_df[[\"image_id\"]],proba], axis=1)\n",
    "proba.to_csv(path, index=False)\n",
    "\n",
    "display(proba.head())\n",
    "sub.head()"
   ]
  },
  {
   "cell_type": "markdown",
   "id": "cec7e5a1",
   "metadata": {},
   "source": [
    "## Timm model selection"
   ]
  },
  {
   "cell_type": "code",
   "execution_count": 11,
   "id": "b5edabfb",
   "metadata": {
    "execution": {
     "iopub.execute_input": "2024-03-18T20:06:47.351763Z",
     "iopub.status.busy": "2024-03-18T20:06:47.350894Z",
     "iopub.status.idle": "2024-03-18T20:06:47.367720Z",
     "shell.execute_reply": "2024-03-18T20:06:47.366709Z"
    },
    "papermill": {
     "duration": 0.35287,
     "end_time": "2024-03-18T20:06:47.369769",
     "exception": false,
     "start_time": "2024-03-18T20:06:47.016899",
     "status": "completed"
    },
    "tags": []
   },
   "outputs": [
    {
     "name": "stdout",
     "output_type": "stream",
     "text": [
      "efficientnetv2_rw_m.agc_in1k\n",
      "efficientnetv2_rw_s.ra2_in1k\n",
      "efficientnetv2_rw_t.ra2_in1k\n",
      "gc_efficientnetv2_rw_t.agc_in1k\n",
      "tf_efficientnetv2_b0.in1k\n",
      "tf_efficientnetv2_b1.in1k\n",
      "tf_efficientnetv2_b2.in1k\n",
      "tf_efficientnetv2_b3.in1k\n",
      "tf_efficientnetv2_b3.in21k\n",
      "tf_efficientnetv2_b3.in21k_ft_in1k\n",
      "tf_efficientnetv2_l.in1k\n",
      "tf_efficientnetv2_l.in21k\n",
      "tf_efficientnetv2_l.in21k_ft_in1k\n",
      "tf_efficientnetv2_m.in1k\n",
      "tf_efficientnetv2_m.in21k\n",
      "tf_efficientnetv2_m.in21k_ft_in1k\n",
      "tf_efficientnetv2_s.in1k\n",
      "tf_efficientnetv2_s.in21k\n",
      "tf_efficientnetv2_s.in21k_ft_in1k\n",
      "tf_efficientnetv2_xl.in21k\n",
      "tf_efficientnetv2_xl.in21k_ft_in1k\n",
      "========================\n",
      "swinv2_base_window8_256.ms_in1k\n",
      "swinv2_base_window12_192.ms_in22k\n",
      "swinv2_base_window12to16_192to256.ms_in22k_ft_in1k\n",
      "swinv2_base_window12to24_192to384.ms_in22k_ft_in1k\n",
      "swinv2_base_window16_256.ms_in1k\n",
      "swinv2_cr_small_224.sw_in1k\n",
      "swinv2_cr_small_ns_224.sw_in1k\n",
      "swinv2_cr_tiny_ns_224.sw_in1k\n",
      "swinv2_large_window12_192.ms_in22k\n",
      "swinv2_large_window12to16_192to256.ms_in22k_ft_in1k\n",
      "swinv2_large_window12to24_192to384.ms_in22k_ft_in1k\n",
      "swinv2_small_window8_256.ms_in1k\n",
      "swinv2_small_window16_256.ms_in1k\n",
      "swinv2_tiny_window8_256.ms_in1k\n",
      "swinv2_tiny_window16_256.ms_in1k\n"
     ]
    }
   ],
   "source": [
    "model_list = timm.list_models(pretrained=True)\n",
    "efNet_list = [m for m in model_list if \"efficientnetv2\" in m.lower()]\n",
    "swin_list = [m for m in model_list if \"swinv2\" in m.lower()]\n",
    "\n",
    "for l in efNet_list:\n",
    "    print(l)\n",
    "print(\"========================\")\n",
    "for l in swin_list:\n",
    "    print(l)"
   ]
  }
 ],
 "metadata": {
  "kaggle": {
   "accelerator": "gpu",
   "dataSources": [
    {
     "databundleVersionId": 7078937,
     "sourceId": 64573,
     "sourceType": "competition"
    }
   ],
   "dockerImageVersionId": 30588,
   "isGpuEnabled": true,
   "isInternetEnabled": true,
   "language": "python",
   "sourceType": "notebook"
  },
  "kernelspec": {
   "display_name": "Python 3 (ipykernel)",
   "language": "python",
   "name": "python3"
  },
  "language_info": {
   "codemirror_mode": {
    "name": "ipython",
    "version": 3
   },
   "file_extension": ".py",
   "mimetype": "text/x-python",
   "name": "python",
   "nbconvert_exporter": "python",
   "pygments_lexer": "ipython3",
   "version": "3.10.12"
  },
  "papermill": {
   "default_parameters": {},
   "duration": 2990.175009,
   "end_time": "2024-03-18T20:06:50.734056",
   "environment_variables": {},
   "exception": null,
   "input_path": "__notebook__.ipynb",
   "output_path": "__notebook__.ipynb",
   "parameters": {},
   "start_time": "2024-03-18T19:17:00.559047",
   "version": "2.4.0"
  },
  "widgets": {
   "application/vnd.jupyter.widget-state+json": {
    "state": {
     "04ea90d43eea40f7b5d77f819755c7f6": {
      "model_module": "@jupyter-widgets/controls",
      "model_module_version": "1.5.0",
      "model_name": "HTMLModel",
      "state": {
       "_dom_classes": [],
       "_model_module": "@jupyter-widgets/controls",
       "_model_module_version": "1.5.0",
       "_model_name": "HTMLModel",
       "_view_count": null,
       "_view_module": "@jupyter-widgets/controls",
       "_view_module_version": "1.5.0",
       "_view_name": "HTMLView",
       "description": "",
       "description_tooltip": null,
       "layout": "IPY_MODEL_ede6b7a1ff004e22a52ae170ab10e0ea",
       "placeholder": "​",
       "style": "IPY_MODEL_d0adbb37d18b435aa83c1a8f96a33a0e",
       "value": "Downloading model.safetensors: 100%"
      }
     },
     "3157ae0639594772bf6a64f31b66a70a": {
      "model_module": "@jupyter-widgets/controls",
      "model_module_version": "1.5.0",
      "model_name": "HTMLModel",
      "state": {
       "_dom_classes": [],
       "_model_module": "@jupyter-widgets/controls",
       "_model_module_version": "1.5.0",
       "_model_name": "HTMLModel",
       "_view_count": null,
       "_view_module": "@jupyter-widgets/controls",
       "_view_module_version": "1.5.0",
       "_view_name": "HTMLView",
       "description": "",
       "description_tooltip": null,
       "layout": "IPY_MODEL_754273f00a194fcab1c9fec82cc77d44",
       "placeholder": "​",
       "style": "IPY_MODEL_3e1bc26f4386481fb9d42b64a3140ac2",
       "value": " 792M/792M [00:02&lt;00:00, 296MB/s]"
      }
     },
     "3dd64efc5ceb4961a683cf29543fc45f": {
      "model_module": "@jupyter-widgets/base",
      "model_module_version": "1.2.0",
      "model_name": "LayoutModel",
      "state": {
       "_model_module": "@jupyter-widgets/base",
       "_model_module_version": "1.2.0",
       "_model_name": "LayoutModel",
       "_view_count": null,
       "_view_module": "@jupyter-widgets/base",
       "_view_module_version": "1.2.0",
       "_view_name": "LayoutView",
       "align_content": null,
       "align_items": null,
       "align_self": null,
       "border": null,
       "bottom": null,
       "display": null,
       "flex": null,
       "flex_flow": null,
       "grid_area": null,
       "grid_auto_columns": null,
       "grid_auto_flow": null,
       "grid_auto_rows": null,
       "grid_column": null,
       "grid_gap": null,
       "grid_row": null,
       "grid_template_areas": null,
       "grid_template_columns": null,
       "grid_template_rows": null,
       "height": null,
       "justify_content": null,
       "justify_items": null,
       "left": null,
       "margin": null,
       "max_height": null,
       "max_width": null,
       "min_height": null,
       "min_width": null,
       "object_fit": null,
       "object_position": null,
       "order": null,
       "overflow": null,
       "overflow_x": null,
       "overflow_y": null,
       "padding": null,
       "right": null,
       "top": null,
       "visibility": null,
       "width": null
      }
     },
     "3e1bc26f4386481fb9d42b64a3140ac2": {
      "model_module": "@jupyter-widgets/controls",
      "model_module_version": "1.5.0",
      "model_name": "DescriptionStyleModel",
      "state": {
       "_model_module": "@jupyter-widgets/controls",
       "_model_module_version": "1.5.0",
       "_model_name": "DescriptionStyleModel",
       "_view_count": null,
       "_view_module": "@jupyter-widgets/base",
       "_view_module_version": "1.2.0",
       "_view_name": "StyleView",
       "description_width": ""
      }
     },
     "647f9621e6da450f837d0be5cd75a5ca": {
      "model_module": "@jupyter-widgets/base",
      "model_module_version": "1.2.0",
      "model_name": "LayoutModel",
      "state": {
       "_model_module": "@jupyter-widgets/base",
       "_model_module_version": "1.2.0",
       "_model_name": "LayoutModel",
       "_view_count": null,
       "_view_module": "@jupyter-widgets/base",
       "_view_module_version": "1.2.0",
       "_view_name": "LayoutView",
       "align_content": null,
       "align_items": null,
       "align_self": null,
       "border": null,
       "bottom": null,
       "display": null,
       "flex": null,
       "flex_flow": null,
       "grid_area": null,
       "grid_auto_columns": null,
       "grid_auto_flow": null,
       "grid_auto_rows": null,
       "grid_column": null,
       "grid_gap": null,
       "grid_row": null,
       "grid_template_areas": null,
       "grid_template_columns": null,
       "grid_template_rows": null,
       "height": null,
       "justify_content": null,
       "justify_items": null,
       "left": null,
       "margin": null,
       "max_height": null,
       "max_width": null,
       "min_height": null,
       "min_width": null,
       "object_fit": null,
       "object_position": null,
       "order": null,
       "overflow": null,
       "overflow_x": null,
       "overflow_y": null,
       "padding": null,
       "right": null,
       "top": null,
       "visibility": null,
       "width": null
      }
     },
     "754273f00a194fcab1c9fec82cc77d44": {
      "model_module": "@jupyter-widgets/base",
      "model_module_version": "1.2.0",
      "model_name": "LayoutModel",
      "state": {
       "_model_module": "@jupyter-widgets/base",
       "_model_module_version": "1.2.0",
       "_model_name": "LayoutModel",
       "_view_count": null,
       "_view_module": "@jupyter-widgets/base",
       "_view_module_version": "1.2.0",
       "_view_name": "LayoutView",
       "align_content": null,
       "align_items": null,
       "align_self": null,
       "border": null,
       "bottom": null,
       "display": null,
       "flex": null,
       "flex_flow": null,
       "grid_area": null,
       "grid_auto_columns": null,
       "grid_auto_flow": null,
       "grid_auto_rows": null,
       "grid_column": null,
       "grid_gap": null,
       "grid_row": null,
       "grid_template_areas": null,
       "grid_template_columns": null,
       "grid_template_rows": null,
       "height": null,
       "justify_content": null,
       "justify_items": null,
       "left": null,
       "margin": null,
       "max_height": null,
       "max_width": null,
       "min_height": null,
       "min_width": null,
       "object_fit": null,
       "object_position": null,
       "order": null,
       "overflow": null,
       "overflow_x": null,
       "overflow_y": null,
       "padding": null,
       "right": null,
       "top": null,
       "visibility": null,
       "width": null
      }
     },
     "86f1c68b1cf8443b90872cde7bb13bc0": {
      "model_module": "@jupyter-widgets/controls",
      "model_module_version": "1.5.0",
      "model_name": "HBoxModel",
      "state": {
       "_dom_classes": [],
       "_model_module": "@jupyter-widgets/controls",
       "_model_module_version": "1.5.0",
       "_model_name": "HBoxModel",
       "_view_count": null,
       "_view_module": "@jupyter-widgets/controls",
       "_view_module_version": "1.5.0",
       "_view_name": "HBoxView",
       "box_style": "",
       "children": [
        "IPY_MODEL_04ea90d43eea40f7b5d77f819755c7f6",
        "IPY_MODEL_d3cfb5eab2364f1695010a930a96c12e",
        "IPY_MODEL_3157ae0639594772bf6a64f31b66a70a"
       ],
       "layout": "IPY_MODEL_647f9621e6da450f837d0be5cd75a5ca"
      }
     },
     "a00545c3611e4d37b569978e71b167f4": {
      "model_module": "@jupyter-widgets/controls",
      "model_module_version": "1.5.0",
      "model_name": "ProgressStyleModel",
      "state": {
       "_model_module": "@jupyter-widgets/controls",
       "_model_module_version": "1.5.0",
       "_model_name": "ProgressStyleModel",
       "_view_count": null,
       "_view_module": "@jupyter-widgets/base",
       "_view_module_version": "1.2.0",
       "_view_name": "StyleView",
       "bar_color": null,
       "description_width": ""
      }
     },
     "d0adbb37d18b435aa83c1a8f96a33a0e": {
      "model_module": "@jupyter-widgets/controls",
      "model_module_version": "1.5.0",
      "model_name": "DescriptionStyleModel",
      "state": {
       "_model_module": "@jupyter-widgets/controls",
       "_model_module_version": "1.5.0",
       "_model_name": "DescriptionStyleModel",
       "_view_count": null,
       "_view_module": "@jupyter-widgets/base",
       "_view_module_version": "1.2.0",
       "_view_name": "StyleView",
       "description_width": ""
      }
     },
     "d3cfb5eab2364f1695010a930a96c12e": {
      "model_module": "@jupyter-widgets/controls",
      "model_module_version": "1.5.0",
      "model_name": "FloatProgressModel",
      "state": {
       "_dom_classes": [],
       "_model_module": "@jupyter-widgets/controls",
       "_model_module_version": "1.5.0",
       "_model_name": "FloatProgressModel",
       "_view_count": null,
       "_view_module": "@jupyter-widgets/controls",
       "_view_module_version": "1.5.0",
       "_view_name": "ProgressView",
       "bar_style": "success",
       "description": "",
       "description_tooltip": null,
       "layout": "IPY_MODEL_3dd64efc5ceb4961a683cf29543fc45f",
       "max": 792246652,
       "min": 0,
       "orientation": "horizontal",
       "style": "IPY_MODEL_a00545c3611e4d37b569978e71b167f4",
       "value": 792246652
      }
     },
     "ede6b7a1ff004e22a52ae170ab10e0ea": {
      "model_module": "@jupyter-widgets/base",
      "model_module_version": "1.2.0",
      "model_name": "LayoutModel",
      "state": {
       "_model_module": "@jupyter-widgets/base",
       "_model_module_version": "1.2.0",
       "_model_name": "LayoutModel",
       "_view_count": null,
       "_view_module": "@jupyter-widgets/base",
       "_view_module_version": "1.2.0",
       "_view_name": "LayoutView",
       "align_content": null,
       "align_items": null,
       "align_self": null,
       "border": null,
       "bottom": null,
       "display": null,
       "flex": null,
       "flex_flow": null,
       "grid_area": null,
       "grid_auto_columns": null,
       "grid_auto_flow": null,
       "grid_auto_rows": null,
       "grid_column": null,
       "grid_gap": null,
       "grid_row": null,
       "grid_template_areas": null,
       "grid_template_columns": null,
       "grid_template_rows": null,
       "height": null,
       "justify_content": null,
       "justify_items": null,
       "left": null,
       "margin": null,
       "max_height": null,
       "max_width": null,
       "min_height": null,
       "min_width": null,
       "object_fit": null,
       "object_position": null,
       "order": null,
       "overflow": null,
       "overflow_x": null,
       "overflow_y": null,
       "padding": null,
       "right": null,
       "top": null,
       "visibility": null,
       "width": null
      }
     }
    },
    "version_major": 2,
    "version_minor": 0
   }
  }
 },
 "nbformat": 4,
 "nbformat_minor": 5
}
